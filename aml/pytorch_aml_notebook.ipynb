{
 "cells": [
  {
   "cell_type": "code",
   "execution_count": 1,
   "id": "7623e94e-5b9f-4300-bfe1-b937bf1e9447",
   "metadata": {},
   "outputs": [],
   "source": [
    "import os\n",
    "import numpy as np\n",
    "import pandas as pd\n",
    "import seaborn as sns\n",
    "from typing import Dict\n",
    "import matplotlib.pyplot as plt\n",
    "from matplotlib.image import imread\n",
    "from PIL import Image\n",
    "import random\n",
    "random.seed(43)"
   ]
  },
  {
   "cell_type": "code",
   "execution_count": 2,
   "id": "59859f07-9b95-496a-bff3-f1c14122de1b",
   "metadata": {},
   "outputs": [],
   "source": [
    "import torch\n",
    "from torch import nn\n",
    "import torch.optim as optim\n",
    "import torchvision\n",
    "from torchvision import datasets\n",
    "from torchvision.transforms import ToTensor"
   ]
  },
  {
   "cell_type": "code",
   "execution_count": 3,
   "id": "38ae4109-301c-4330-9789-9074d0068d7c",
   "metadata": {},
   "outputs": [
    {
     "data": {
      "text/plain": [
       "True"
      ]
     },
     "execution_count": 3,
     "metadata": {},
     "output_type": "execute_result"
    }
   ],
   "source": [
    "torch.cuda.is_available()"
   ]
  },
  {
   "cell_type": "code",
   "execution_count": 4,
   "id": "53decee3-39b8-48fb-bd3b-5b3d61624208",
   "metadata": {},
   "outputs": [
    {
     "name": "stdout",
     "output_type": "stream",
     "text": [
      "PyTorch version: 2.2.1\n",
      "torchvision version: 0.17.1\n"
     ]
    }
   ],
   "source": [
    "print(f\"PyTorch version: {torch.__version__}\\ntorchvision version: {torchvision.__version__}\")"
   ]
  },
  {
   "cell_type": "code",
   "execution_count": 5,
   "id": "94ff1f70-79d9-4d9e-8828-b81cd8a5633e",
   "metadata": {},
   "outputs": [
    {
     "data": {
      "text/plain": [
       "1"
      ]
     },
     "execution_count": 5,
     "metadata": {},
     "output_type": "execute_result"
    }
   ],
   "source": [
    "torch.cuda.device_count()"
   ]
  },
  {
   "cell_type": "code",
   "execution_count": 6,
   "id": "7f2b88b7-6b85-45ea-a439-c8bd163d60ee",
   "metadata": {},
   "outputs": [],
   "source": [
    "device = torch.device('cuda' if torch.cuda.is_available() else 'cpu')"
   ]
  },
  {
   "cell_type": "markdown",
   "id": "2d208297-5d3a-460b-9bf0-b283c49ea9a0",
   "metadata": {},
   "source": [
    "## Data"
   ]
  },
  {
   "cell_type": "code",
   "execution_count": 7,
   "id": "db564def-8624-4fac-9f49-a0de5ebb3c41",
   "metadata": {},
   "outputs": [],
   "source": [
    "dir = '/app/data'"
   ]
  },
  {
   "cell_type": "code",
   "execution_count": 8,
   "id": "b7495cca-4d31-4830-ae5c-bf1cefa846f4",
   "metadata": {},
   "outputs": [],
   "source": [
    "def find_control_and_count_files(root_directory, target):\n",
    "    control_path = None\n",
    "    \n",
    "    # Traverse the directory hierarchy to find the 'control' folder\n",
    "    for root, dirs, files in os.walk(root_directory):\n",
    "        if target in dirs:\n",
    "            control_path = os.path.join(root, target)\n",
    "            break\n",
    "    \n",
    "    if not control_path:\n",
    "        print(f'No {target} folder found.')\n",
    "        return\n",
    "    \n",
    "    total_files = 0\n",
    "    \n",
    "    # Count files in target folder and all its subdirectories\n",
    "    for root, dirs, files in os.walk(control_path):\n",
    "        total_files += len(files)\n",
    "    \n",
    "    print(f\"Total number of files under the {target} folder: {total_files}\")"
   ]
  },
  {
   "cell_type": "code",
   "execution_count": 9,
   "id": "1b880e88-3410-4369-85cf-8bd381ce5424",
   "metadata": {},
   "outputs": [],
   "source": [
    "classes = ['control', 'CBFB_MYH11']"
   ]
  },
  {
   "cell_type": "code",
   "execution_count": 10,
   "id": "9019c387-379e-4195-83e0-95bfd213192f",
   "metadata": {},
   "outputs": [
    {
     "name": "stdout",
     "output_type": "stream",
     "text": [
      "Total number of files under the control folder: 20305\n",
      "Total number of files under the CBFB_MYH11 folder: 17212\n"
     ]
    }
   ],
   "source": [
    "for item in classes:\n",
    "    find_control_and_count_files(dir, item)"
   ]
  },
  {
   "cell_type": "code",
   "execution_count": 11,
   "id": "716e437c-7480-48aa-85af-1a6ae16b8602",
   "metadata": {},
   "outputs": [],
   "source": [
    "from torch.utils.data import Dataset, DataLoader, random_split\n",
    "\n",
    "# Data loading function\n",
    "class CustomDataset(Dataset):\n",
    "    def __init__(self, dir, classes, image_batch_size=3000, transform=None):\n",
    "        self.transform = transform\n",
    "        self.images = []\n",
    "        self.labels = []\n",
    "        \n",
    "        for class_idx, class_name in enumerate(classes):\n",
    "            class_path = os.path.join(dir, class_name)\n",
    "            image_paths = [os.path.join(root, file)\n",
    "                           for root, _, files in os.walk(class_path)\n",
    "                           for file in files if file.endswith('.tif')]\n",
    "            random.shuffle(image_paths)\n",
    "            selected_image_paths = image_paths[:image_batch_size]\n",
    "            \n",
    "            for image_path in selected_image_paths:\n",
    "                with Image.open(image_path) as img:\n",
    "                    img = img.convert('RGB')\n",
    "                    self.images.append(np.array(img))\n",
    "                    self.labels.append(class_idx)\n",
    "    \n",
    "    def __len__(self):\n",
    "        return len(self.images)\n",
    "\n",
    "    def __getitem__(self, idx):\n",
    "        image = self.images[idx]\n",
    "        label = self.labels[idx]\n",
    "        if self.transform:\n",
    "            image = self.transform(image)\n",
    "        return image, label"
   ]
  },
  {
   "cell_type": "code",
   "execution_count": 12,
   "id": "39841e69-3051-484f-8eb3-3f11897621e2",
   "metadata": {},
   "outputs": [],
   "source": [
    "from torchvision import transforms\n",
    "# Define transforms for the images\n",
    "transform = transforms.Compose([\n",
    "    transforms.ToPILImage(),\n",
    "    transforms.Resize((144, 144)),\n",
    "    transforms.ToTensor()\n",
    "])"
   ]
  },
  {
   "cell_type": "code",
   "execution_count": 13,
   "id": "b09b2f48-6855-478e-b472-49556dae186e",
   "metadata": {},
   "outputs": [],
   "source": [
    "# Create dataset and split it\n",
    "dataset = CustomDataset(dir=dir, classes=classes, transform=transform)\n",
    "train_size = int(0.8 * len(dataset))\n",
    "test_size = len(dataset) - train_size\n",
    "train_dataset, test_dataset = random_split(dataset, [train_size, test_size])"
   ]
  },
  {
   "cell_type": "code",
   "execution_count": 14,
   "id": "40cc15a5-3703-4d33-a798-6be0a46c13a1",
   "metadata": {},
   "outputs": [],
   "source": [
    "# Split train into train and validation\n",
    "val_size = int(0.15 * train_size)\n",
    "train_size = train_size - val_size\n",
    "train_dataset, val_dataset = random_split(train_dataset, [train_size, val_size])"
   ]
  },
  {
   "cell_type": "code",
   "execution_count": 15,
   "id": "fb07b39d-9fea-4bf6-be7d-054569ca700b",
   "metadata": {},
   "outputs": [],
   "source": [
    "# Dataloaders\n",
    "BATCH_SIZE = 16\n",
    "train_loader = DataLoader(train_dataset, batch_size=BATCH_SIZE, shuffle=True)\n",
    "val_loader = DataLoader(val_dataset, batch_size=BATCH_SIZE)\n",
    "test_loader = DataLoader(test_dataset, batch_size=BATCH_SIZE)"
   ]
  },
  {
   "cell_type": "markdown",
   "id": "6acabdac-64d5-48b8-b9fb-dd962fc3eeab",
   "metadata": {},
   "source": [
    "## Define Model"
   ]
  },
  {
   "cell_type": "code",
   "execution_count": 16,
   "id": "255e6020-138f-4430-837e-58eb94e31c9d",
   "metadata": {},
   "outputs": [],
   "source": [
    "target_height = 144\n",
    "target_width = 144"
   ]
  },
  {
   "cell_type": "code",
   "execution_count": 17,
   "id": "77795693-27a0-42e3-aec5-511105a493fb",
   "metadata": {},
   "outputs": [],
   "source": [
    "class CNNModel(nn.Module):\n",
    "    def __init__(self, num_layers, num_units, dropout_rate):\n",
    "        super(CNNModel, self).__init__()\n",
    "        layers = []\n",
    "        \n",
    "        # First convolutional layer\n",
    "        layers.append(nn.Conv2d(3, num_units, kernel_size=3, padding=1))\n",
    "        layers.append(nn.ReLU())\n",
    "        layers.append(nn.BatchNorm2d(num_units))\n",
    "        layers.append(nn.MaxPool2d(2))\n",
    "        \n",
    "        # Add additional convolutional layers\n",
    "        for _ in range(num_layers - 1):\n",
    "            layers.append(nn.Conv2d(num_units, num_units * 2, kernel_size=3, padding=1))\n",
    "            layers.append(nn.ReLU())\n",
    "            layers.append(nn.BatchNorm2d(num_units * 2))\n",
    "            layers.append(nn.MaxPool2d(2))\n",
    "            num_units *= 2\n",
    "        \n",
    "        self.conv_layers = nn.Sequential(*layers)\n",
    "        \n",
    "        # Fully connected layers\n",
    "        self.fc1 = nn.Linear(num_units * (target_height // (2 ** num_layers)) * (target_width // (2 ** num_layers)), 512)\n",
    "        self.dropout = nn.Dropout(dropout_rate)\n",
    "        self.fc2 = nn.Linear(512, 2)  # Assuming binary classification (2 classes)\n",
    "\n",
    "    def forward(self, x):\n",
    "        x = self.conv_layers(x)\n",
    "        x = x.view(x.size(0), -1)  # Flatten the tensor for fully connected layers\n",
    "        x = self.fc1(x)\n",
    "        x = self.dropout(x)\n",
    "        x = self.fc2(x)\n",
    "        return x\n"
   ]
  },
  {
   "cell_type": "markdown",
   "id": "dabfc9d0-266c-424d-bdc5-7d55482fce6a",
   "metadata": {},
   "source": [
    "## Hyperparameter Tunning"
   ]
  },
  {
   "cell_type": "code",
   "execution_count": 18,
   "id": "ba6ead3f-18d2-4f3c-90ea-5ece42f2144a",
   "metadata": {},
   "outputs": [],
   "source": [
    "!pip install optuna -q"
   ]
  },
  {
   "cell_type": "code",
   "execution_count": 19,
   "id": "7f1bdcb4-5b5b-4bbf-811f-c3888f8b224a",
   "metadata": {},
   "outputs": [],
   "source": [
    "import optuna"
   ]
  },
  {
   "cell_type": "code",
   "execution_count": 20,
   "id": "8172334c-269a-4fe3-955f-b477fe633fc3",
   "metadata": {},
   "outputs": [],
   "source": [
    "def create_model(trial: optuna.Trial) -> nn.Module:\n",
    "    \"\"\"Define the model architecture.\"\"\"\n",
    "    num_layers = trial.suggest_int(\"num_layers\", 2, 3)\n",
    "    num_neurons_per_layer = trial.suggest_int(\"num_units\", 64, 256, step=64)\n",
    "    dropout_rate = trial.suggest_float(\"dropout_rate\", 0.3, 0.5)\n",
    "\n",
    "    model = CNNModel(\n",
    "        num_layers=num_layers,\n",
    "        num_units=num_neurons_per_layer,\n",
    "        dropout_rate=dropout_rate\n",
    "    )\n",
    "    return model"
   ]
  },
  {
   "cell_type": "code",
   "execution_count": 21,
   "id": "43df79ab-379c-4c77-a9b3-2ad6b1e55e81",
   "metadata": {},
   "outputs": [],
   "source": [
    "EPOCHS = 8"
   ]
  },
  {
   "cell_type": "code",
   "execution_count": 22,
   "id": "58eedeff-ffe1-4b94-8cac-53ec6f564420",
   "metadata": {},
   "outputs": [],
   "source": [
    "def train_model(model: nn.Module, trial: optuna.Trial) -> float:\n",
    "    \"\"\"Train the model and return the best validation loss.\"\"\"\n",
    "    model = model.to(device)\n",
    "\n",
    "    # Loss and optimizer\n",
    "    criterion = nn.CrossEntropyLoss()\n",
    "    learning_rate = trial.suggest_float(\"learning_rate\", 1e-4, 1e-3, log=True)\n",
    "    optimizer = optim.Adam(model.parameters(), lr=learning_rate)\n",
    "\n",
    "    # Early stopping\n",
    "    patience = 3\n",
    "    best_val_loss = float('inf')\n",
    "    epochs_without_improvement = 0\n",
    "    train_losses = []\n",
    "    val_losses = []\n",
    "\n",
    "    for epoch in range(EPOCHS):\n",
    "        model.train()\n",
    "        running_train_loss = 0.0\n",
    "        for inputs, labels in train_loader:\n",
    "            inputs, labels = inputs.to(device), labels.to(device)\n",
    "            optimizer.zero_grad()\n",
    "\n",
    "            outputs = model(inputs)\n",
    "            loss = criterion(outputs, labels)\n",
    "            loss.backward()\n",
    "            optimizer.step()\n",
    "\n",
    "            running_train_loss += loss.item()\n",
    "        \n",
    "        avg_train_loss = running_train_loss / len(train_loader)\n",
    "        train_losses.append(avg_train_loss)\n",
    "\n",
    "        # Validation phase\n",
    "        model.eval()\n",
    "        with torch.no_grad():\n",
    "            running_val_loss = 0.0\n",
    "            for inputs, labels in train_loader:\n",
    "                inputs, labels = inputs.to(device), labels.to(device)\n",
    "\n",
    "                outputs = model(inputs)\n",
    "                loss = criterion(outputs, labels)\n",
    "                running_val_loss += loss.item()\n",
    "\n",
    "            avg_val_loss = running_val_loss / len(train_loader)\n",
    "            val_losses.append(avg_val_loss)\n",
    "\n",
    "        print(f'Epoch {epoch+1}: Train Loss: {avg_train_loss:.4f}, Validation Loss: {avg_val_loss:.4f}')\n",
    "\n",
    "        # Early stopping check\n",
    "        if avg_val_loss < best_val_loss:\n",
    "            best_val_loss = avg_val_loss\n",
    "            epochs_without_improvement = 0\n",
    "        else:\n",
    "            epochs_without_improvement += 1\n",
    "            if epochs_without_improvement >= patience:\n",
    "                print(\"Early stopping triggered\")\n",
    "                break\n",
    "    \n",
    "    return best_val_loss\n"
   ]
  },
  {
   "cell_type": "code",
   "execution_count": 23,
   "id": "1e1364cf-c096-4c4a-9bec-b8249169e57d",
   "metadata": {},
   "outputs": [],
   "source": [
    "def objective(trial: optuna.Trial) -> float:\n",
    "    \"\"\"Objective function for Optuna hyperparameter search.\"\"\"\n",
    "    model = create_model(trial)\n",
    "    return train_model(model, trial)"
   ]
  },
  {
   "cell_type": "code",
   "execution_count": 24,
   "id": "d22bb3c6-8c6e-4a82-8b1e-7909fa06649b",
   "metadata": {},
   "outputs": [
    {
     "name": "stderr",
     "output_type": "stream",
     "text": [
      "[I 2024-11-09 03:04:49,885] A new study created in memory with name: no-name-987cd5f6-dec0-42f8-b1a6-9063a0de36e8\n"
     ]
    },
    {
     "name": "stdout",
     "output_type": "stream",
     "text": [
      "Epoch 1: Train Loss: 26.5305, Validation Loss: 3.6344\n",
      "Epoch 2: Train Loss: 4.4341, Validation Loss: 1.6246\n",
      "Epoch 3: Train Loss: 2.5260, Validation Loss: 3.0467\n",
      "Epoch 4: Train Loss: 3.7912, Validation Loss: 2.9443\n"
     ]
    },
    {
     "name": "stderr",
     "output_type": "stream",
     "text": [
      "[I 2024-11-09 03:09:46,348] Trial 0 finished with value: 1.624594350647323 and parameters: {'num_layers': 3, 'num_units': 256, 'dropout_rate': 0.46417950257823903, 'learning_rate': 0.0004381735652309894}. Best is trial 0 with value: 1.624594350647323.\n"
     ]
    },
    {
     "name": "stdout",
     "output_type": "stream",
     "text": [
      "Epoch 5: Train Loss: 3.7136, Validation Loss: 2.1487\n",
      "Early stopping triggered\n",
      "Epoch 1: Train Loss: 19.1814, Validation Loss: 1.6872\n",
      "Epoch 2: Train Loss: 3.2814, Validation Loss: 1.8813\n",
      "Epoch 3: Train Loss: 4.4234, Validation Loss: 2.5904\n"
     ]
    },
    {
     "name": "stderr",
     "output_type": "stream",
     "text": [
      "[I 2024-11-09 03:13:38,207] Trial 1 finished with value: 1.6871694531652428 and parameters: {'num_layers': 3, 'num_units': 192, 'dropout_rate': 0.3611973523000103, 'learning_rate': 0.0006787212723319971}. Best is trial 0 with value: 1.624594350647323.\n"
     ]
    },
    {
     "name": "stdout",
     "output_type": "stream",
     "text": [
      "Epoch 4: Train Loss: 3.9493, Validation Loss: 4.1826\n",
      "Early stopping triggered\n",
      "Epoch 1: Train Loss: 27.0699, Validation Loss: 10.7211\n",
      "Epoch 2: Train Loss: 4.8948, Validation Loss: 2.5903\n",
      "Epoch 3: Train Loss: 4.3893, Validation Loss: 4.5917\n",
      "Epoch 4: Train Loss: 6.5580, Validation Loss: 7.1464\n",
      "Epoch 5: Train Loss: 3.0044, Validation Loss: 1.5232\n",
      "Epoch 6: Train Loss: 3.2456, Validation Loss: 1.6134\n",
      "Epoch 7: Train Loss: 3.1521, Validation Loss: 1.9241\n"
     ]
    },
    {
     "name": "stderr",
     "output_type": "stream",
     "text": [
      "[I 2024-11-09 03:20:17,179] Trial 2 finished with value: 1.5231981254673954 and parameters: {'num_layers': 2, 'num_units': 128, 'dropout_rate': 0.37161091438708393, 'learning_rate': 0.0009054852572916622}. Best is trial 2 with value: 1.5231981254673954.\n"
     ]
    },
    {
     "name": "stdout",
     "output_type": "stream",
     "text": [
      "Epoch 8: Train Loss: 2.3581, Validation Loss: 3.4668\n",
      "Early stopping triggered\n",
      "Epoch 1: Train Loss: 28.4772, Validation Loss: 6.0138\n",
      "Epoch 2: Train Loss: 4.3237, Validation Loss: 4.7351\n",
      "Epoch 3: Train Loss: 3.8985, Validation Loss: 14.3351\n",
      "Epoch 4: Train Loss: 4.8311, Validation Loss: 15.7762\n"
     ]
    },
    {
     "name": "stderr",
     "output_type": "stream",
     "text": [
      "[I 2024-11-09 03:24:33,308] Trial 3 finished with value: 4.735129727861275 and parameters: {'num_layers': 2, 'num_units': 128, 'dropout_rate': 0.4996324724083356, 'learning_rate': 0.0006358154954851214}. Best is trial 2 with value: 1.5231981254673954.\n"
     ]
    },
    {
     "name": "stdout",
     "output_type": "stream",
     "text": [
      "Epoch 5: Train Loss: 4.8956, Validation Loss: 15.4264\n",
      "Early stopping triggered\n",
      "Epoch 1: Train Loss: 14.7956, Validation Loss: 6.8012\n",
      "Epoch 2: Train Loss: 6.7893, Validation Loss: 7.8761\n",
      "Epoch 3: Train Loss: 4.2681, Validation Loss: 1.2868\n",
      "Epoch 4: Train Loss: 1.8631, Validation Loss: 4.4386\n",
      "Epoch 5: Train Loss: 1.4069, Validation Loss: 2.2719\n",
      "Epoch 6: Train Loss: 0.9008, Validation Loss: 0.7134\n",
      "Epoch 7: Train Loss: 0.5388, Validation Loss: 0.1217\n"
     ]
    },
    {
     "name": "stderr",
     "output_type": "stream",
     "text": [
      "[I 2024-11-09 03:31:57,904] Trial 4 finished with value: 0.1216531922492873 and parameters: {'num_layers': 2, 'num_units': 128, 'dropout_rate': 0.3668925059415144, 'learning_rate': 0.00018297302506149654}. Best is trial 4 with value: 0.1216531922492873.\n"
     ]
    },
    {
     "name": "stdout",
     "output_type": "stream",
     "text": [
      "Epoch 8: Train Loss: 0.3192, Validation Loss: 0.4636\n"
     ]
    }
   ],
   "source": [
    "# Run Optuna study\n",
    "study = optuna.create_study(direction='minimize')\n",
    "study.optimize(objective, n_trials=5)"
   ]
  },
  {
   "cell_type": "markdown",
   "id": "3f2d8921-59fe-4db9-8c9e-54fa28420907",
   "metadata": {},
   "source": [
    "## Re-Train with Best Hypermeters"
   ]
  },
  {
   "cell_type": "code",
   "execution_count": 26,
   "id": "3b6b8608-f640-467e-b29b-bfe1e82588ea",
   "metadata": {},
   "outputs": [
    {
     "name": "stdout",
     "output_type": "stream",
     "text": [
      "  Hyperparameters: \n",
      "    num_layers: 2\n",
      "    num_units: 128\n",
      "    dropout_rate: 0.3668925059415144\n",
      "    learning_rate: 0.00018297302506149654\n"
     ]
    }
   ],
   "source": [
    "best_params = study.best_params\n",
    "\n",
    "print(\"  Hyperparameters: \")\n",
    "for key, value in best_params.items():\n",
    "    print(f\"    {key}: {value}\")"
   ]
  },
  {
   "cell_type": "code",
   "execution_count": 29,
   "id": "02e132c2-a6ab-45df-9041-4844603a84bf",
   "metadata": {},
   "outputs": [],
   "source": [
    "best_model = CNNModel(\n",
    "    num_layers=best_params['num_layers'],\n",
    "    num_units=best_params['num_units'],\n",
    "    dropout_rate=best_params['dropout_rate']\n",
    ").to(device)"
   ]
  },
  {
   "cell_type": "code",
   "execution_count": 30,
   "id": "78c32c17-66e5-45e5-b67d-ede492d460bf",
   "metadata": {},
   "outputs": [],
   "source": [
    "# Re-train the model with the best hyperparameters and early stopping\n",
    "optimizer = optim.Adam(best_model.parameters(), lr=best_params['learning_rate'])\n",
    "criterion = nn.CrossEntropyLoss()"
   ]
  },
  {
   "cell_type": "code",
   "execution_count": 31,
   "id": "0cf3406f-025c-43f0-a2b4-646b0a7a4cc2",
   "metadata": {},
   "outputs": [],
   "source": [
    "train_losses = []\n",
    "val_losses = []"
   ]
  },
  {
   "cell_type": "code",
   "execution_count": 32,
   "id": "5eb815ab-85aa-486f-9fdc-74456debe796",
   "metadata": {},
   "outputs": [],
   "source": [
    "EPOCHS = 50"
   ]
  },
  {
   "cell_type": "code",
   "execution_count": 34,
   "id": "f8959eb1-5f90-4584-8979-d57c508ba7d0",
   "metadata": {},
   "outputs": [
    {
     "name": "stdout",
     "output_type": "stream",
     "text": [
      "Epoch 1: Train Loss: 12.7738, Validation Loss: 11.9394\n",
      "Epoch 2: Train Loss: 7.9113, Validation Loss: 4.4623\n",
      "Epoch 3: Train Loss: 4.0056, Validation Loss: 1.1822\n",
      "Epoch 4: Train Loss: 2.2365, Validation Loss: 1.4406\n",
      "Epoch 5: Train Loss: 1.0781, Validation Loss: 0.4042\n",
      "Epoch 6: Train Loss: 0.7951, Validation Loss: 0.1759\n",
      "Epoch 7: Train Loss: 0.5628, Validation Loss: 0.1112\n",
      "Epoch 8: Train Loss: 0.3066, Validation Loss: 0.0838\n",
      "Epoch 9: Train Loss: 0.2260, Validation Loss: 0.0402\n",
      "Epoch 10: Train Loss: 0.1449, Validation Loss: 0.0461\n",
      "Epoch 11: Train Loss: 0.1428, Validation Loss: 0.3069\n",
      "Epoch 12: Train Loss: 0.1868, Validation Loss: 0.0584\n",
      "Early stopping triggered\n"
     ]
    }
   ],
   "source": [
    "# Same training loop with early stopping\n",
    "patience = 3\n",
    "best_val_loss = float('inf')\n",
    "epochs_without_improvement = 0\n",
    "\n",
    "for epoch in range(EPOCHS):\n",
    "    best_model.train()\n",
    "    running_train_loss = 0.0\n",
    "    for inputs, labels in train_loader:\n",
    "        inputs, labels = inputs.to(device), labels.to(device)\n",
    "        optimizer.zero_grad()\n",
    "\n",
    "        outputs = best_model(inputs)\n",
    "        loss = criterion(outputs, labels)\n",
    "        loss.backward()\n",
    "        optimizer.step()\n",
    "\n",
    "        running_train_loss += loss.item()\n",
    "    \n",
    "    avg_train_loss = running_train_loss / len(train_loader)\n",
    "    train_losses.append(avg_train_loss)\n",
    "\n",
    "    # Validation phase (use a validation dataset or just monitor on training set for now)\n",
    "    best_model.eval()\n",
    "    with torch.no_grad():\n",
    "        running_val_loss = 0.0\n",
    "        for inputs, labels in train_loader:\n",
    "            inputs, labels = inputs.to(device), labels.to(device)\n",
    "\n",
    "            outputs = best_model(inputs)\n",
    "            loss = criterion(outputs, labels)\n",
    "            running_val_loss += loss.item()\n",
    "\n",
    "        avg_val_loss = running_val_loss / len(train_loader)\n",
    "        val_losses.append(avg_val_loss)\n",
    "\n",
    "    print(f'Epoch {epoch+1}: Train Loss: {avg_train_loss:.4f}, Validation Loss: {avg_val_loss:.4f}')\n",
    "\n",
    "    # Early stopping check\n",
    "    if avg_val_loss < best_val_loss:\n",
    "        best_val_loss = avg_val_loss\n",
    "        epochs_without_improvement = 0\n",
    "    else:\n",
    "        epochs_without_improvement += 1\n",
    "        if epochs_without_improvement >= patience:\n",
    "            print(\"Early stopping triggered\")\n",
    "            break"
   ]
  },
  {
   "cell_type": "code",
   "execution_count": 35,
   "id": "04850f44-e71c-42bc-bc08-776576e783c7",
   "metadata": {},
   "outputs": [
    {
     "data": {
      "image/png": "[encoded data removed]",
      "text/plain": [
       "<Figure size 1000x600 with 1 Axes>"
      ]
     },
     "metadata": {},
     "output_type": "display_data"
    }
   ],
   "source": [
    "# Plot training and validation losses\n",
    "def plot_losses(train_losses, val_losses):\n",
    "    plt.figure(figsize=(10, 6))\n",
    "    plt.plot(train_losses, label='Train Loss')\n",
    "    plt.plot(val_losses, label='Validation Loss')\n",
    "    plt.xlabel('Epochs')\n",
    "    plt.ylabel('Loss')\n",
    "    plt.legend()\n",
    "    plt.title('Training and Validation Losses')\n",
    "    plt.show()\n",
    "\n",
    "plot_losses(train_losses, val_losses)"
   ]
  },
  {
   "cell_type": "markdown",
   "id": "1b94188d-cc5f-431a-bb21-54b5977b4f36",
   "metadata": {},
   "source": [
    "## Validation with Test Data"
   ]
  },
  {
   "cell_type": "code",
   "execution_count": 47,
   "id": "0b7b2569-8ef7-4a8e-b1ab-dc336ecae9ad",
   "metadata": {},
   "outputs": [],
   "source": [
    "best_model.eval()\n",
    "with torch.no_grad():\n",
    "    y_pred_list = []\n",
    "    y_true_list = []\n",
    "\n",
    "    for inputs, labels in test_loader:\n",
    "        inputs, labels = inputs.to(device), labels.to(device)\n",
    "\n",
    "        outputs = best_model(inputs)\n",
    "        _, predicted = torch.max(outputs, 1)\n",
    "\n",
    "        y_pred_list.extend(predicted.cpu().numpy())\n",
    "        y_true_list.extend(labels.cpu().numpy())\n"
   ]
  },
  {
   "cell_type": "code",
   "execution_count": 44,
   "id": "c0db46d2-2c8f-44cb-aba5-4b9335e5a5f2",
   "metadata": {},
   "outputs": [],
   "source": [
    "!pip install scikit-learn -q"
   ]
  },
  {
   "cell_type": "code",
   "execution_count": 53,
   "id": "0f85114c-30aa-4a8b-94da-f8f209acf8f3",
   "metadata": {},
   "outputs": [
    {
     "data": {
      "image/png": "[encoded data removed]",
      "text/plain": [
       "<Figure size 640x480 with 2 Axes>"
      ]
     },
     "metadata": {},
     "output_type": "display_data"
    }
   ],
   "source": [
    "from sklearn.metrics import confusion_matrix, ConfusionMatrixDisplay, classification_report\n",
    "\n",
    "cm = confusion_matrix(y_true_list, y_pred_list)\n",
    "cm_normalized = cm / cm.sum(axis=1)[:, np.newaxis]\n",
    "\n",
    "# Define class labels\n",
    "classes = np.unique(y_true_list)\n",
    "\n",
    "# Print confusion matrix\n",
    "disp = ConfusionMatrixDisplay(confusion_matrix=cm_normalized, display_labels=classes)\n",
    "disp.plot(cmap=plt.cm.Blues, values_format=\".0%\")\n",
    "plt.title('Confusion Matrix')\n",
    "plt.show()"
   ]
  },
  {
   "cell_type": "code",
   "execution_count": 49,
   "id": "ca0e2cfb-1302-41f5-a175-495d7d5bd06f",
   "metadata": {},
   "outputs": [
    {
     "name": "stdout",
     "output_type": "stream",
     "text": [
      "              precision    recall  f1-score   support\n",
      "\n",
      "           0       0.85      0.84      0.84       600\n",
      "           1       0.84      0.85      0.85       600\n",
      "\n",
      "    accuracy                           0.84      1200\n",
      "   macro avg       0.85      0.84      0.84      1200\n",
      "weighted avg       0.85      0.84      0.84      1200\n",
      "\n"
     ]
    }
   ],
   "source": [
    "print(classification_report(y_true_list, y_pred_list))"
   ]
  },
  {
   "cell_type": "code",
   "execution_count": null,
   "id": "fb69fc55-307b-4f9e-8c2b-efd657026dab",
   "metadata": {},
   "outputs": [],
   "source": []
  }
 ],
 "metadata": {
  "kernelspec": {
   "display_name": "Python 3 (ipykernel)",
   "language": "python",
   "name": "python3"
  },
  "language_info": {
   "codemirror_mode": {
    "name": "ipython",
    "version": 3
   },
   "file_extension": ".py",
   "mimetype": "text/x-python",
   "name": "python",
   "nbconvert_exporter": "python",
   "pygments_lexer": "ipython3",
   "version": "3.10.13"
  }
 },
 "nbformat": 4,
 "nbformat_minor": 5
}
