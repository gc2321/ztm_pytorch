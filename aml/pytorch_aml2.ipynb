{
 "cells": [
  {
   "cell_type": "code",
   "execution_count": 1,
   "id": "206f37a5-f17c-4ea2-9ee9-e5b2731f1883",
   "metadata": {},
   "outputs": [],
   "source": [
    "!pip install optuna -q"
   ]
  },
  {
   "cell_type": "code",
   "execution_count": 2,
   "id": "d667b203-f1cb-4c59-8fa4-e5a432fa2783",
   "metadata": {},
   "outputs": [],
   "source": [
    "!pip install scikit-learn -q"
   ]
  },
  {
   "cell_type": "code",
   "execution_count": 8,
   "id": "5e5bc6fe-9047-49e8-a5c0-1666a8dc92c0",
   "metadata": {},
   "outputs": [],
   "source": [
    "import os\n",
    "import torch\n",
    "import numpy as np\n",
    "import random\n",
    "from PIL import Image\n",
    "from torch import nn, optim\n",
    "from torch.utils.data import Dataset, DataLoader, random_split\n",
    "import torchvision\n",
    "from torchvision import transforms, datasets\n",
    "from torchvision.transforms import ToTensor\n",
    "import matplotlib.pyplot as plt\n",
    "import optuna\n",
    "from sklearn.metrics import confusion_matrix, ConfusionMatrixDisplay, classification_report"
   ]
  },
  {
   "cell_type": "code",
   "execution_count": 4,
   "id": "19ca4af6-6234-4300-9f8f-344d074b4336",
   "metadata": {},
   "outputs": [
    {
     "data": {
      "text/plain": [
       "True"
      ]
     },
     "execution_count": 4,
     "metadata": {},
     "output_type": "execute_result"
    }
   ],
   "source": [
    "torch.cuda.is_available()"
   ]
  },
  {
   "cell_type": "code",
   "execution_count": 9,
   "id": "4cb44b6a-c32a-40f8-b48d-706d5fb32707",
   "metadata": {},
   "outputs": [
    {
     "name": "stdout",
     "output_type": "stream",
     "text": [
      "PyTorch version: 2.2.1\n",
      "torchvision version: 0.17.1\n"
     ]
    }
   ],
   "source": [
    "print(f\"PyTorch version: {torch.__version__}\\ntorchvision version: {torchvision.__version__}\")"
   ]
  },
  {
   "cell_type": "code",
   "execution_count": 10,
   "id": "ff8457bc-4c4a-4901-9cdf-7cfd5cb67353",
   "metadata": {},
   "outputs": [
    {
     "data": {
      "text/plain": [
       "1"
      ]
     },
     "execution_count": 10,
     "metadata": {},
     "output_type": "execute_result"
    }
   ],
   "source": [
    "torch.cuda.device_count()"
   ]
  },
  {
   "cell_type": "code",
   "execution_count": 11,
   "id": "da044df9-affc-46cc-b674-0cff534f2124",
   "metadata": {},
   "outputs": [],
   "source": [
    "device = torch.device('cuda' if torch.cuda.is_available() else 'cpu')"
   ]
  },
  {
   "cell_type": "markdown",
   "id": "306c6d07-550d-43a8-891d-ea7cb20756f6",
   "metadata": {},
   "source": [
    "## Loading Data"
   ]
  },
  {
   "cell_type": "code",
   "execution_count": 21,
   "id": "25eb88a1-51e5-43f4-817f-881ab3ca1573",
   "metadata": {},
   "outputs": [],
   "source": [
    "# Paths and configurations\n",
    "DATA_DIR = '/app/data'\n",
    "BATCH_SIZE = 16\n",
    "CLASSES = ['control', 'CBFB_MYH11']\n",
    "IMAGE_SIZE = (144, 144)"
   ]
  },
  {
   "cell_type": "code",
   "execution_count": 13,
   "id": "88ee697c-f0d5-452d-a30a-eb2ed32b9c3b",
   "metadata": {},
   "outputs": [],
   "source": [
    "# Helper function to count files in directories\n",
    "def count_files_in_directory(root_directory, target_folder):\n",
    "    target_path = None\n",
    "    for root, dirs, _ in os.walk(root_directory):\n",
    "        if target_folder in dirs:\n",
    "            target_path = os.path.join(root, target_folder)\n",
    "            break\n",
    "    if target_path:\n",
    "        total_files = sum(len(files) for _, _, files in os.walk(target_path))\n",
    "        print(f\"Total number of files under the '{target_folder}' folder: {total_files}\")\n",
    "    else:\n",
    "        print(f\"No '{target_folder}' folder found.\")"
   ]
  },
  {
   "cell_type": "code",
   "execution_count": 14,
   "id": "a4ed77ae-da23-46bc-b06a-d29751dc2b51",
   "metadata": {},
   "outputs": [
    {
     "name": "stdout",
     "output_type": "stream",
     "text": [
      "Total number of files under the 'control' folder: 20305\n",
      "Total number of files under the 'CBFB_MYH11' folder: 17212\n"
     ]
    }
   ],
   "source": [
    "for cls in CLASSES:\n",
    "    count_files_in_directory(DATA_DIR, cls)"
   ]
  },
  {
   "cell_type": "code",
   "execution_count": 15,
   "id": "74e0bff4-4cc7-4c18-96d6-526d4260e7ee",
   "metadata": {},
   "outputs": [],
   "source": [
    "# Dataset class for loading images\n",
    "class CustomDataset(Dataset):\n",
    "    def __init__(self, data_dir, classes, image_batch_size=3000, transform=None):\n",
    "        self.transform = transform\n",
    "        self.images, self.labels = self.load_images(data_dir, classes, image_batch_size)\n",
    "\n",
    "    def load_images(self, data_dir, classes, image_batch_size):\n",
    "        images, labels = [], []\n",
    "        for idx, class_name in enumerate(classes):\n",
    "            class_path = os.path.join(data_dir, class_name)\n",
    "            image_paths = [os.path.join(root, file) \n",
    "                           for root, _, files in os.walk(class_path) \n",
    "                           for file in files if file.endswith('.tif')]\n",
    "            random.shuffle(image_paths)\n",
    "            for img_path in image_paths[:image_batch_size]:\n",
    "                with Image.open(img_path) as img:\n",
    "                    images.append(np.array(img.convert('RGB')))\n",
    "                    labels.append(idx)\n",
    "        return images, labels\n",
    "\n",
    "    def __len__(self):\n",
    "        return len(self.images)\n",
    "\n",
    "    def __getitem__(self, idx):\n",
    "        image = self.transform(self.images[idx]) if self.transform else self.images[idx]\n",
    "        return image, self.labels[idx]"
   ]
  },
  {
   "cell_type": "code",
   "execution_count": 16,
   "id": "1df4197f-a11d-4cb2-8867-30ae9e250276",
   "metadata": {},
   "outputs": [],
   "source": [
    "# Image transformations\n",
    "transform = transforms.Compose([\n",
    "    transforms.ToPILImage(),\n",
    "    transforms.Resize(IMAGE_SIZE),\n",
    "    transforms.ToTensor()\n",
    "])"
   ]
  },
  {
   "cell_type": "markdown",
   "id": "7e6a73a0-2478-4293-91c3-6f235371e674",
   "metadata": {},
   "source": [
    "## Create and Split Dataset"
   ]
  },
  {
   "cell_type": "code",
   "execution_count": 18,
   "id": "21b510e8-ed0f-4937-97c3-7094d2b708e0",
   "metadata": {},
   "outputs": [],
   "source": [
    "dataset = CustomDataset(data_dir=DATA_DIR, classes=CLASSES, transform=transform)\n",
    "train_size = int(0.8 * len(dataset))\n",
    "val_size = int(0.15 * train_size)\n",
    "train_size -= val_size\n",
    "test_size = len(dataset) - train_size - val_size\n",
    "train_dataset, test_dataset = random_split(dataset, [train_size + val_size, test_size])\n",
    "train_dataset, val_dataset = random_split(train_dataset, [train_size, val_size])\n",
    "\n",
    "train_loader = DataLoader(train_dataset, batch_size=BATCH_SIZE, shuffle=True)\n",
    "val_loader = DataLoader(val_dataset, batch_size=BATCH_SIZE)\n",
    "test_loader = DataLoader(test_dataset, batch_size=BATCH_SIZE)"
   ]
  },
  {
   "cell_type": "markdown",
   "id": "4c649034-ca60-4b37-b86c-c41cb33dd5e4",
   "metadata": {},
   "source": [
    "## Model"
   ]
  },
  {
   "cell_type": "code",
   "execution_count": 19,
   "id": "cb69864a-49ee-45ce-bc25-8e3a7a5330ab",
   "metadata": {},
   "outputs": [],
   "source": [
    "class CNNModel(nn.Module):\n",
    "    def __init__(self, num_layers, num_units, dropout_rate):\n",
    "        super(CNNModel, self).__init__()\n",
    "        layers = [nn.Conv2d(3, num_units, kernel_size=3, padding=1), nn.ReLU(),\n",
    "                  nn.BatchNorm2d(num_units), nn.MaxPool2d(2)]\n",
    "        \n",
    "        for _ in range(num_layers - 1):\n",
    "            layers.extend([nn.Conv2d(num_units, num_units * 2, kernel_size=3, padding=1),\n",
    "                           nn.ReLU(), nn.BatchNorm2d(num_units * 2), nn.MaxPool2d(2)])\n",
    "            num_units *= 2\n",
    "\n",
    "        self.conv_layers = nn.Sequential(*layers)\n",
    "        fc_input_size = num_units * (IMAGE_SIZE[0] // (2 ** num_layers)) * (IMAGE_SIZE[1] // (2 ** num_layers))\n",
    "        self.fc1 = nn.Linear(fc_input_size, 512)\n",
    "        self.dropout = nn.Dropout(dropout_rate)\n",
    "        self.fc2 = nn.Linear(512, 2)\n",
    "\n",
    "    def forward(self, x):\n",
    "        x = self.conv_layers(x).view(x.size(0), -1)\n",
    "        return self.fc2(self.dropout(self.fc1(x)))"
   ]
  },
  {
   "cell_type": "markdown",
   "id": "e3f77fbc-3af3-48f0-a6d2-14d617dc0f79",
   "metadata": {},
   "source": [
    "## Hyperparameter Tunning"
   ]
  },
  {
   "cell_type": "code",
   "execution_count": 25,
   "id": "a634af2a-0536-4e28-bc48-9fc6d9c2b0f1",
   "metadata": {},
   "outputs": [],
   "source": [
    "EPOCHS = 15"
   ]
  },
  {
   "cell_type": "code",
   "execution_count": 23,
   "id": "c2a24662-d9ad-4e42-aa44-e0ba8e33ce45",
   "metadata": {},
   "outputs": [],
   "source": [
    "def objective(trial):\n",
    "    num_layers = trial.suggest_int(\"num_layers\", 2, 3)\n",
    "    num_units = trial.suggest_int(\"num_units\", 128, 384, step=64)\n",
    "    dropout_rate = trial.suggest_float(\"dropout_rate\", 0.0, 0.3)\n",
    "    learning_rate = trial.suggest_float(\"learning_rate\", 1e-5, 1e-4, log=True)\n",
    "\n",
    "    model = CNNModel(num_layers=num_layers, num_units=num_units, dropout_rate=dropout_rate).to(device)\n",
    "    criterion = nn.CrossEntropyLoss()\n",
    "    optimizer = optim.Adam(model.parameters(), lr=learning_rate)\n",
    "\n",
    "    patience = 3\n",
    "    best_val_loss = float('inf')\n",
    "    epochs_without_improvement = 0\n",
    "    for epoch in range(EPOCHS):\n",
    "        model.train()\n",
    "        train_loss = sum(criterion(model(inputs.to(device)), labels.to(device)).item() for inputs, labels in train_loader) / len(train_loader)\n",
    "        val_loss = sum(criterion(model(inputs.to(device)), labels.to(device)).item() for inputs, labels in val_loader) / len(val_loader)\n",
    "        \n",
    "        if val_loss < best_val_loss:\n",
    "            best_val_loss = val_loss\n",
    "            epochs_without_improvement = 0\n",
    "        else:\n",
    "            epochs_without_improvement += 1\n",
    "            if epochs_without_improvement >= patience:\n",
    "                break\n",
    "    return best_val_loss"
   ]
  },
  {
   "cell_type": "code",
   "execution_count": 26,
   "id": "edb12859-4d56-428f-aebd-dafdc24e309f",
   "metadata": {},
   "outputs": [
    {
     "name": "stderr",
     "output_type": "stream",
     "text": [
      "[I 2024-11-09 14:26:10,748] A new study created in memory with name: no-name-3a6add03-2ea5-4f68-810c-47ae9abe7292\n",
      "[I 2024-11-09 14:26:55,043] Trial 0 finished with value: 0.7367860343721178 and parameters: {'num_layers': 2, 'num_units': 256, 'dropout_rate': 0.1931975658024461, 'learning_rate': 0.0004973834326270402}. Best is trial 0 with value: 0.7367860343721178.\n",
      "[I 2024-11-09 14:27:30,620] Trial 1 finished with value: 0.8337640444437663 and parameters: {'num_layers': 2, 'num_units': 128, 'dropout_rate': 0.26457316997581554, 'learning_rate': 0.00011045290386644114}. Best is trial 0 with value: 0.7367860343721178.\n",
      "[I 2024-11-09 14:29:13,368] Trial 2 finished with value: 0.7264713101916843 and parameters: {'num_layers': 2, 'num_units': 256, 'dropout_rate': 0.023913785825759447, 'learning_rate': 0.00021123058987955045}. Best is trial 2 with value: 0.7264713101916843.\n",
      "[I 2024-11-09 14:30:58,577] Trial 3 finished with value: 0.7347679946157667 and parameters: {'num_layers': 2, 'num_units': 192, 'dropout_rate': 0.024762219288975127, 'learning_rate': 0.0001602898350347064}. Best is trial 2 with value: 0.7264713101916843.\n",
      "[I 2024-11-09 14:31:29,415] Trial 4 finished with value: 0.8183421519067552 and parameters: {'num_layers': 2, 'num_units': 128, 'dropout_rate': 0.06163974182556837, 'learning_rate': 0.000986781985864421}. Best is trial 2 with value: 0.7264713101916843.\n"
     ]
    }
   ],
   "source": [
    "# Run Optuna optimization\n",
    "study = optuna.create_study(direction='minimize')\n",
    "study.optimize(objective, n_trials=5)"
   ]
  },
  {
   "cell_type": "code",
   "execution_count": 27,
   "id": "10e208d5-fe15-4caa-bb0f-9eac0ab47e29",
   "metadata": {},
   "outputs": [
    {
     "name": "stdout",
     "output_type": "stream",
     "text": [
      "  Hyperparameters: \n",
      "    num_layers: 2\n",
      "    num_units: 256\n",
      "    dropout_rate: 0.023913785825759447\n",
      "    learning_rate: 0.00021123058987955045\n"
     ]
    }
   ],
   "source": [
    "best_params = study.best_params\n",
    "\n",
    "print(\"  Hyperparameters: \")\n",
    "for key, value in best_params.items():\n",
    "    print(f\"    {key}: {value}\")"
   ]
  },
  {
   "cell_type": "markdown",
   "id": "73060b29-2da5-4757-8896-24e92dda2c43",
   "metadata": {},
   "source": [
    "## Final Training with Best Hypermeters"
   ]
  },
  {
   "cell_type": "code",
   "execution_count": 28,
   "id": "a22a830f-0718-446a-a246-afe6253d5c3f",
   "metadata": {},
   "outputs": [],
   "source": [
    "best_model = CNNModel(\n",
    "    num_layers=best_params['num_layers'],\n",
    "    num_units=best_params['num_units'],\n",
    "    dropout_rate=best_params['dropout_rate']\n",
    ").to(device)"
   ]
  },
  {
   "cell_type": "code",
   "execution_count": 29,
   "id": "3398eb80-2ba1-440f-a7cb-187a9fd86abf",
   "metadata": {},
   "outputs": [],
   "source": [
    "optimizer = optim.Adam(best_model.parameters(), lr=best_params['learning_rate'])\n",
    "criterion = nn.CrossEntropyLoss()"
   ]
  },
  {
   "cell_type": "code",
   "execution_count": 30,
   "id": "b77a0df9-e725-43fe-8e6f-262971ab71aa",
   "metadata": {},
   "outputs": [],
   "source": [
    "# Metrics storage\n",
    "train_losses = []\n",
    "val_losses = []\n",
    "train_accuracies = []\n",
    "val_accuracies = []\n",
    "\n",
    "EPOCHS = 50\n",
    "patience = 3\n",
    "best_val_loss = float('inf')\n",
    "epochs_without_improvement = 0"
   ]
  },
  {
   "cell_type": "code",
   "execution_count": 31,
   "id": "4928e8fe-3493-4acc-b42c-3554e6ae387c",
   "metadata": {},
   "outputs": [
    {
     "name": "stdout",
     "output_type": "stream",
     "text": [
      "Epoch 1: Train Loss: 19.3576, Train Acc: 0.7689, Val Loss: 3.7767, Val Acc: 0.8069\n",
      "Epoch 2: Train Loss: 1.5239, Train Acc: 0.8495, Val Loss: 1.6047, Val Acc: 0.7444\n",
      "Epoch 3: Train Loss: 0.5749, Train Acc: 0.8640, Val Loss: 0.8824, Val Acc: 0.7792\n",
      "Epoch 4: Train Loss: 0.2730, Train Acc: 0.9042, Val Loss: 0.5067, Val Acc: 0.8333\n",
      "Epoch 5: Train Loss: 0.2249, Train Acc: 0.9159, Val Loss: 0.4991, Val Acc: 0.8472\n",
      "Epoch 6: Train Loss: 0.2291, Train Acc: 0.9154, Val Loss: 0.5335, Val Acc: 0.8486\n",
      "Epoch 7: Train Loss: 0.1856, Train Acc: 0.9319, Val Loss: 1.0758, Val Acc: 0.8042\n",
      "Epoch 8: Train Loss: 0.2550, Train Acc: 0.9125, Val Loss: 0.6860, Val Acc: 0.8278\n",
      "Early stopping triggered\n"
     ]
    }
   ],
   "source": [
    "for epoch in range(EPOCHS):\n",
    "    # Training phase\n",
    "    best_model.train()\n",
    "    running_train_loss = 0.0\n",
    "    correct_train = 0\n",
    "    total_train = 0\n",
    "    \n",
    "    for inputs, labels in train_loader:\n",
    "        inputs, labels = inputs.to(device), labels.to(device)\n",
    "        optimizer.zero_grad()\n",
    "\n",
    "        outputs = best_model(inputs)\n",
    "        loss = criterion(outputs, labels)\n",
    "        loss.backward()\n",
    "        optimizer.step()\n",
    "\n",
    "        running_train_loss += loss.item()\n",
    "\n",
    "        # Calculate training accuracy\n",
    "        _, predicted = torch.max(outputs, 1)\n",
    "        correct_train += (predicted == labels).sum().item()\n",
    "        total_train += labels.size(0)\n",
    "    \n",
    "    avg_train_loss = running_train_loss / len(train_loader)\n",
    "    train_accuracy = correct_train / total_train\n",
    "    train_losses.append(avg_train_loss)\n",
    "    train_accuracies.append(train_accuracy)\n",
    "\n",
    "    # Validation phase\n",
    "    best_model.eval()\n",
    "    running_val_loss = 0.0\n",
    "    correct_val = 0\n",
    "    total_val = 0\n",
    "\n",
    "    with torch.no_grad():\n",
    "        for inputs, labels in val_loader:\n",
    "            inputs, labels = inputs.to(device), labels.to(device)\n",
    "            outputs = best_model(inputs)\n",
    "            loss = criterion(outputs, labels)\n",
    "            running_val_loss += loss.item()\n",
    "\n",
    "            # Calculate validation accuracy\n",
    "            _, predicted = torch.max(outputs, 1)\n",
    "            correct_val += (predicted == labels).sum().item()\n",
    "            total_val += labels.size(0)\n",
    "\n",
    "    avg_val_loss = running_val_loss / len(val_loader)\n",
    "    val_accuracy = correct_val / total_val\n",
    "    val_losses.append(avg_val_loss)\n",
    "    val_accuracies.append(val_accuracy)\n",
    "\n",
    "    print(f'Epoch {epoch+1}: Train Loss: {avg_train_loss:.4f}, Train Acc: {train_accuracy:.4f}, '\n",
    "          f'Val Loss: {avg_val_loss:.4f}, Val Acc: {val_accuracy:.4f}')\n",
    "\n",
    "    # Early stopping check\n",
    "    if avg_val_loss < best_val_loss:\n",
    "        best_val_loss = avg_val_loss\n",
    "        epochs_without_improvement = 0\n",
    "    else:\n",
    "        epochs_without_improvement += 1\n",
    "        if epochs_without_improvement >= patience:\n",
    "            print(\"Early stopping triggered\")\n",
    "            break"
   ]
  },
  {
   "cell_type": "code",
   "execution_count": 32,
   "id": "5259280e-5571-4d0c-8e17-3f7bdfbe5e88",
   "metadata": {},
   "outputs": [
    {
     "data": {
      "image/png": "[encoded data removed]",
      "text/plain": [
       "<Figure size 1400x500 with 2 Axes>"
      ]
     },
     "metadata": {},
     "output_type": "display_data"
    }
   ],
   "source": [
    "# Plot training and validation losses and accuracies\n",
    "def plot_metrics(train_losses, val_losses, train_accuracies, val_accuracies):\n",
    "    epochs_range = range(1, len(train_losses) + 1)\n",
    "    plt.figure(figsize=(14, 5))\n",
    "\n",
    "    # Plot Losses\n",
    "    plt.subplot(1, 2, 1)\n",
    "    plt.plot(epochs_range, train_losses, label='Train Loss')\n",
    "    plt.plot(epochs_range, val_losses, label='Validation Loss')\n",
    "    plt.xlabel('Epochs')\n",
    "    plt.ylabel('Loss')\n",
    "    plt.legend()\n",
    "    plt.title('Training and Validation Loss')\n",
    "\n",
    "    # Plot Accuracies\n",
    "    plt.subplot(1, 2, 2)\n",
    "    plt.plot(epochs_range, train_accuracies, label='Train Accuracy')\n",
    "    plt.plot(epochs_range, val_accuracies, label='Validation Accuracy')\n",
    "    plt.xlabel('Epochs')\n",
    "    plt.ylabel('Accuracy')\n",
    "    plt.legend()\n",
    "    plt.title('Training and Validation Accuracy')\n",
    "\n",
    "    plt.tight_layout()\n",
    "    plt.show()\n",
    "\n",
    "plot_metrics(train_losses, val_losses, train_accuracies, val_accuracies)"
   ]
  },
  {
   "cell_type": "code",
   "execution_count": 48,
   "id": "a47c2074-8dfc-43b4-bb45-986443b974c6",
   "metadata": {},
   "outputs": [],
   "source": [
    "# Evaluate with test data\n",
    "\n",
    "y_pred, y_true = [], []\n",
    "\n",
    "def evaluate_model(model, test_loader):\n",
    "    model.eval()\n",
    "    with torch.no_grad():\n",
    "        for inputs, labels in test_loader:\n",
    "            outputs = model(inputs.to(device))\n",
    "            _, predicted = torch.max(outputs, 1)\n",
    "            y_pred.extend(predicted.cpu().numpy())\n",
    "            y_true.extend(labels.cpu().numpy())\n",
    "            "
   ]
  },
  {
   "cell_type": "code",
   "execution_count": 49,
   "id": "bfdae4b7-a246-48d1-b0b4-0a9325486e4a",
   "metadata": {},
   "outputs": [],
   "source": [
    "evaluate_model(best_model, test_loader)"
   ]
  },
  {
   "cell_type": "code",
   "execution_count": 50,
   "id": "bcc56a0c-7301-4b15-b8b8-2ffad1392f6f",
   "metadata": {},
   "outputs": [
    {
     "data": {
      "image/png": "[encoded data removed]",
      "text/plain": [
       "<Figure size 640x480 with 2 Axes>"
      ]
     },
     "metadata": {},
     "output_type": "display_data"
    }
   ],
   "source": [
    "cm = confusion_matrix(y_true, y_pred)\n",
    "cm_normalized = cm / cm.sum(axis=1)[:, np.newaxis]  # Normalize by row (true condition)\n",
    "\n",
    "# Plot the normalized confusion matrix\n",
    "disp = ConfusionMatrixDisplay(confusion_matrix=cm_normalized, display_labels=CLASSES)\n",
    "disp.plot(cmap=plt.cm.Blues, values_format=\".0%\")\n",
    "plt.title('Normalized Confusion Matrix')\n",
    "plt.show()"
   ]
  },
  {
   "cell_type": "code",
   "execution_count": 51,
   "id": "e30ad1af-2df3-472b-928d-b7cb9d4d3344",
   "metadata": {},
   "outputs": [
    {
     "name": "stdout",
     "output_type": "stream",
     "text": [
      "              precision    recall  f1-score   support\n",
      "\n",
      "     control       0.83      0.86      0.85       624\n",
      "  CBFB_MYH11       0.84      0.81      0.83       576\n",
      "\n",
      "    accuracy                           0.84      1200\n",
      "   macro avg       0.84      0.84      0.84      1200\n",
      "weighted avg       0.84      0.84      0.84      1200\n",
      "\n"
     ]
    }
   ],
   "source": [
    "print(classification_report(y_true, y_pred, target_names=CLASSES))"
   ]
  },
  {
   "cell_type": "code",
   "execution_count": null,
   "id": "b5a57427-8cf6-4e80-a43c-f9440a282a6d",
   "metadata": {},
   "outputs": [],
   "source": []
  }
 ],
 "metadata": {
  "kernelspec": {
   "display_name": "Python 3 (ipykernel)",
   "language": "python",
   "name": "python3"
  },
  "language_info": {
   "codemirror_mode": {
    "name": "ipython",
    "version": 3
   },
   "file_extension": ".py",
   "mimetype": "text/x-python",
   "name": "python",
   "nbconvert_exporter": "python",
   "pygments_lexer": "ipython3",
   "version": "3.10.13"
  }
 },
 "nbformat": 4,
 "nbformat_minor": 5
}
