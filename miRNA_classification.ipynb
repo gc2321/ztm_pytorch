{
  "nbformat": 4,
  "nbformat_minor": 0,
  "metadata": {
    "colab": {
      "provenance": [],
      "gpuType": "T4",
      "authorship_tag": "ABX9TyOVGhprWIpmUMJjh5cxov5z",
      "include_colab_link": true
    },
    "kernelspec": {
      "name": "python3",
      "display_name": "Python 3"
    },
    "language_info": {
      "name": "python"
    },
    "accelerator": "GPU"
  },
  "cells": [
    {
      "cell_type": "markdown",
      "metadata": {
        "id": "view-in-github",
        "colab_type": "text"
      },
      "source": [
        "<a href=\"https://colab.research.google.com/github/gc2321/ztm_pytorch/blob/main/miRNA_classification.ipynb\" target=\"_parent\"><img src=\"https://colab.research.google.com/assets/colab-badge.svg\" alt=\"Open In Colab\"/></a>"
      ]
    },
    {
      "cell_type": "code",
      "execution_count": 1,
      "metadata": {
        "id": "4-Aw3ZQB_CuP"
      },
      "outputs": [],
      "source": [
        "import torch\n",
        "from torch import nn\n",
        "import matplotlib.pyplot as plt\n",
        "import torch.nn.functional as F\n",
        "from torch.utils.data import Dataset, DataLoader, TensorDataset\n",
        "import numpy as np\n",
        "import pandas as pd\n",
        "from sklearn.utils import shuffle\n",
        "import matplotlib.pyplot as plt\n",
        "\n",
        "from sklearn.metrics import accuracy_score\n"
      ]
    },
    {
      "cell_type": "code",
      "source": [
        "print(torch.__version__)"
      ],
      "metadata": {
        "id": "ozkycNn6_5rE",
        "outputId": "7d15d39f-7f86-4a65-8e6d-ddd5b738b822",
        "colab": {
          "base_uri": "https://localhost:8080/"
        }
      },
      "execution_count": 2,
      "outputs": [
        {
          "output_type": "stream",
          "name": "stdout",
          "text": [
            "2.5.0+cu121\n"
          ]
        }
      ]
    },
    {
      "cell_type": "code",
      "source": [
        "torch.cuda.is_available()"
      ],
      "metadata": {
        "colab": {
          "base_uri": "https://localhost:8080/"
        },
        "id": "1SMiRxAFjl36",
        "outputId": "bfc06d12-8ba4-47d5-8856-49ff74d79e74"
      },
      "execution_count": 3,
      "outputs": [
        {
          "output_type": "execute_result",
          "data": {
            "text/plain": [
              "True"
            ]
          },
          "metadata": {},
          "execution_count": 3
        }
      ]
    },
    {
      "cell_type": "code",
      "source": [
        "# set uo device agnoistic code\n",
        "device = torch.device('cuda' if torch.cuda.is_available() else 'cpu')"
      ],
      "metadata": {
        "id": "9gDwC-brj3Ab"
      },
      "execution_count": 4,
      "outputs": []
    },
    {
      "cell_type": "code",
      "source": [
        "# count number of devices\n",
        "torch.cuda.device_count()"
      ],
      "metadata": {
        "colab": {
          "base_uri": "https://localhost:8080/"
        },
        "id": "jssfk81Kj-Xd",
        "outputId": "b853d95f-9274-481b-c5ec-9a7fd171906f"
      },
      "execution_count": 5,
      "outputs": [
        {
          "output_type": "execute_result",
          "data": {
            "text/plain": [
              "1"
            ]
          },
          "metadata": {},
          "execution_count": 5
        }
      ]
    },
    {
      "cell_type": "markdown",
      "source": [
        "\n",
        "## Load Data"
      ],
      "metadata": {
        "id": "cknbtkatm1PZ"
      }
    },
    {
      "cell_type": "code",
      "source": [
        "# mount the colab\n",
        "from google.colab import drive\n",
        "drive.mount('/content/gdrive')\n"
      ],
      "metadata": {
        "colab": {
          "base_uri": "https://localhost:8080/"
        },
        "id": "rdmgQclOx-t5",
        "outputId": "6e919387-1669-4a79-aebf-b1bc9149dcfa"
      },
      "execution_count": 6,
      "outputs": [
        {
          "output_type": "stream",
          "name": "stdout",
          "text": [
            "Mounted at /content/gdrive\n"
          ]
        }
      ]
    },
    {
      "cell_type": "code",
      "source": [
        "import fileinput\n",
        "filePath = \"/content/gdrive/MyDrive/neural_data/miRNA_lung.csv\""
      ],
      "metadata": {
        "id": "F22WSfN1yG42"
      },
      "execution_count": 7,
      "outputs": []
    },
    {
      "cell_type": "code",
      "source": [
        "data = pd.read_csv(filePath)"
      ],
      "metadata": {
        "id": "6bX1vzjiyi17"
      },
      "execution_count": 8,
      "outputs": []
    },
    {
      "cell_type": "code",
      "source": [
        "data.head()"
      ],
      "metadata": {
        "colab": {
          "base_uri": "https://localhost:8080/",
          "height": 429
        },
        "id": "LusjnLfCy5Sl",
        "outputId": "598b1804-391f-40f5-cad4-41c0ef334efc"
      },
      "execution_count": 9,
      "outputs": [
        {
          "output_type": "execute_result",
          "data": {
            "text/plain": [
              "    depmap_id cell_line_display_name lineage_1                  lineage_2  \\\n",
              "0  ACH-000382                 CORL24      Lung  Lung Neuroendocrine Tumor   \n",
              "1  ACH-000187                CORL311      Lung  Lung Neuroendocrine Tumor   \n",
              "2  ACH-000695                 CORL47      Lung  Lung Neuroendocrine Tumor   \n",
              "3  ACH-000743                 CORL95      Lung  Lung Neuroendocrine Tumor   \n",
              "4  ACH-000594                 DMS153      Lung  Lung Neuroendocrine Tumor   \n",
              "\n",
              "                lineage_3 lineage_5  lineage_6  lineage_4  MIMAT0000062  \\\n",
              "0  Small Cell Lung Cancer       NaN        NaN        NaN     14.735474   \n",
              "1  Small Cell Lung Cancer       NaN        NaN        NaN     14.088938   \n",
              "2  Small Cell Lung Cancer       NaN        NaN        NaN     14.802760   \n",
              "3  Small Cell Lung Cancer       NaN        NaN        NaN     14.687715   \n",
              "4  Small Cell Lung Cancer       NaN        NaN        NaN     15.371449   \n",
              "\n",
              "   MIMAT0000063  ...  MIMAT0002192  MIMAT0002191  MIMAT0002190  MIMAT0002189  \\\n",
              "0     12.091720  ...      6.113534      6.609991      6.308885      6.262471   \n",
              "1     10.298567  ...      5.892877      6.482203      6.258330      6.425761   \n",
              "2     12.660535  ...      5.856488      6.421728      5.928844      6.166514   \n",
              "3     12.203541  ...      5.778997      6.364397      6.293885      6.181302   \n",
              "4     13.265271  ...      5.906890      6.691115      6.196332      6.455821   \n",
              "\n",
              "   MIMAT0002188  MIMAT0002187  MIMAT0002186  MIMAT0002185  MIMAT0010151  \\\n",
              "0      6.397461      5.966938      5.907852      6.572435      6.230741   \n",
              "1      6.454340      6.050284      5.829088      6.321567      5.973841   \n",
              "2      6.454669      6.084489      5.831370      6.084489      5.831370   \n",
              "3      6.557043      6.219943      5.902315      6.464015      6.059182   \n",
              "4      7.594922      6.106223      5.824513      6.380764      6.058966   \n",
              "\n",
              "   MIMAT0010150  \n",
              "0      6.910133  \n",
              "1      6.723558  \n",
              "2      6.735522  \n",
              "3      6.779654  \n",
              "4      7.831497  \n",
              "\n",
              "[5 rows x 742 columns]"
            ],
            "text/html": [
              "\n",
              "  <div id=\"df-deb907ba-8090-49c9-a94a-733ba92c0ac0\" class=\"colab-df-container\">\n",
              "    <div>\n",
              "<style scoped>\n",
              "    .dataframe tbody tr th:only-of-type {\n",
              "        vertical-align: middle;\n",
              "    }\n",
              "\n",
              "    .dataframe tbody tr th {\n",
              "        vertical-align: top;\n",
              "    }\n",
              "\n",
              "    .dataframe thead th {\n",
              "        text-align: right;\n",
              "    }\n",
              "</style>\n",
              "<table border=\"1\" class=\"dataframe\">\n",
              "  <thead>\n",
              "    <tr style=\"text-align: right;\">\n",
              "      <th></th>\n",
              "      <th>depmap_id</th>\n",
              "      <th>cell_line_display_name</th>\n",
              "      <th>lineage_1</th>\n",
              "      <th>lineage_2</th>\n",
              "      <th>lineage_3</th>\n",
              "      <th>lineage_5</th>\n",
              "      <th>lineage_6</th>\n",
              "      <th>lineage_4</th>\n",
              "      <th>MIMAT0000062</th>\n",
              "      <th>MIMAT0000063</th>\n",
              "      <th>...</th>\n",
              "      <th>MIMAT0002192</th>\n",
              "      <th>MIMAT0002191</th>\n",
              "      <th>MIMAT0002190</th>\n",
              "      <th>MIMAT0002189</th>\n",
              "      <th>MIMAT0002188</th>\n",
              "      <th>MIMAT0002187</th>\n",
              "      <th>MIMAT0002186</th>\n",
              "      <th>MIMAT0002185</th>\n",
              "      <th>MIMAT0010151</th>\n",
              "      <th>MIMAT0010150</th>\n",
              "    </tr>\n",
              "  </thead>\n",
              "  <tbody>\n",
              "    <tr>\n",
              "      <th>0</th>\n",
              "      <td>ACH-000382</td>\n",
              "      <td>CORL24</td>\n",
              "      <td>Lung</td>\n",
              "      <td>Lung Neuroendocrine Tumor</td>\n",
              "      <td>Small Cell Lung Cancer</td>\n",
              "      <td>NaN</td>\n",
              "      <td>NaN</td>\n",
              "      <td>NaN</td>\n",
              "      <td>14.735474</td>\n",
              "      <td>12.091720</td>\n",
              "      <td>...</td>\n",
              "      <td>6.113534</td>\n",
              "      <td>6.609991</td>\n",
              "      <td>6.308885</td>\n",
              "      <td>6.262471</td>\n",
              "      <td>6.397461</td>\n",
              "      <td>5.966938</td>\n",
              "      <td>5.907852</td>\n",
              "      <td>6.572435</td>\n",
              "      <td>6.230741</td>\n",
              "      <td>6.910133</td>\n",
              "    </tr>\n",
              "    <tr>\n",
              "      <th>1</th>\n",
              "      <td>ACH-000187</td>\n",
              "      <td>CORL311</td>\n",
              "      <td>Lung</td>\n",
              "      <td>Lung Neuroendocrine Tumor</td>\n",
              "      <td>Small Cell Lung Cancer</td>\n",
              "      <td>NaN</td>\n",
              "      <td>NaN</td>\n",
              "      <td>NaN</td>\n",
              "      <td>14.088938</td>\n",
              "      <td>10.298567</td>\n",
              "      <td>...</td>\n",
              "      <td>5.892877</td>\n",
              "      <td>6.482203</td>\n",
              "      <td>6.258330</td>\n",
              "      <td>6.425761</td>\n",
              "      <td>6.454340</td>\n",
              "      <td>6.050284</td>\n",
              "      <td>5.829088</td>\n",
              "      <td>6.321567</td>\n",
              "      <td>5.973841</td>\n",
              "      <td>6.723558</td>\n",
              "    </tr>\n",
              "    <tr>\n",
              "      <th>2</th>\n",
              "      <td>ACH-000695</td>\n",
              "      <td>CORL47</td>\n",
              "      <td>Lung</td>\n",
              "      <td>Lung Neuroendocrine Tumor</td>\n",
              "      <td>Small Cell Lung Cancer</td>\n",
              "      <td>NaN</td>\n",
              "      <td>NaN</td>\n",
              "      <td>NaN</td>\n",
              "      <td>14.802760</td>\n",
              "      <td>12.660535</td>\n",
              "      <td>...</td>\n",
              "      <td>5.856488</td>\n",
              "      <td>6.421728</td>\n",
              "      <td>5.928844</td>\n",
              "      <td>6.166514</td>\n",
              "      <td>6.454669</td>\n",
              "      <td>6.084489</td>\n",
              "      <td>5.831370</td>\n",
              "      <td>6.084489</td>\n",
              "      <td>5.831370</td>\n",
              "      <td>6.735522</td>\n",
              "    </tr>\n",
              "    <tr>\n",
              "      <th>3</th>\n",
              "      <td>ACH-000743</td>\n",
              "      <td>CORL95</td>\n",
              "      <td>Lung</td>\n",
              "      <td>Lung Neuroendocrine Tumor</td>\n",
              "      <td>Small Cell Lung Cancer</td>\n",
              "      <td>NaN</td>\n",
              "      <td>NaN</td>\n",
              "      <td>NaN</td>\n",
              "      <td>14.687715</td>\n",
              "      <td>12.203541</td>\n",
              "      <td>...</td>\n",
              "      <td>5.778997</td>\n",
              "      <td>6.364397</td>\n",
              "      <td>6.293885</td>\n",
              "      <td>6.181302</td>\n",
              "      <td>6.557043</td>\n",
              "      <td>6.219943</td>\n",
              "      <td>5.902315</td>\n",
              "      <td>6.464015</td>\n",
              "      <td>6.059182</td>\n",
              "      <td>6.779654</td>\n",
              "    </tr>\n",
              "    <tr>\n",
              "      <th>4</th>\n",
              "      <td>ACH-000594</td>\n",
              "      <td>DMS153</td>\n",
              "      <td>Lung</td>\n",
              "      <td>Lung Neuroendocrine Tumor</td>\n",
              "      <td>Small Cell Lung Cancer</td>\n",
              "      <td>NaN</td>\n",
              "      <td>NaN</td>\n",
              "      <td>NaN</td>\n",
              "      <td>15.371449</td>\n",
              "      <td>13.265271</td>\n",
              "      <td>...</td>\n",
              "      <td>5.906890</td>\n",
              "      <td>6.691115</td>\n",
              "      <td>6.196332</td>\n",
              "      <td>6.455821</td>\n",
              "      <td>7.594922</td>\n",
              "      <td>6.106223</td>\n",
              "      <td>5.824513</td>\n",
              "      <td>6.380764</td>\n",
              "      <td>6.058966</td>\n",
              "      <td>7.831497</td>\n",
              "    </tr>\n",
              "  </tbody>\n",
              "</table>\n",
              "<p>5 rows × 742 columns</p>\n",
              "</div>\n",
              "    <div class=\"colab-df-buttons\">\n",
              "\n",
              "  <div class=\"colab-df-container\">\n",
              "    <button class=\"colab-df-convert\" onclick=\"convertToInteractive('df-deb907ba-8090-49c9-a94a-733ba92c0ac0')\"\n",
              "            title=\"Convert this dataframe to an interactive table.\"\n",
              "            style=\"display:none;\">\n",
              "\n",
              "  <svg xmlns=\"http://www.w3.org/2000/svg\" height=\"24px\" viewBox=\"0 -960 960 960\">\n",
              "    <path d=\"M120-120v-720h720v720H120Zm60-500h600v-160H180v160Zm220 220h160v-160H400v160Zm0 220h160v-160H400v160ZM180-400h160v-160H180v160Zm440 0h160v-160H620v160ZM180-180h160v-160H180v160Zm440 0h160v-160H620v160Z\"/>\n",
              "  </svg>\n",
              "    </button>\n",
              "\n",
              "  <style>\n",
              "    .colab-df-container {\n",
              "      display:flex;\n",
              "      gap: 12px;\n",
              "    }\n",
              "\n",
              "    .colab-df-convert {\n",
              "      background-color: #E8F0FE;\n",
              "      border: none;\n",
              "      border-radius: 50%;\n",
              "      cursor: pointer;\n",
              "      display: none;\n",
              "      fill: #1967D2;\n",
              "      height: 32px;\n",
              "      padding: 0 0 0 0;\n",
              "      width: 32px;\n",
              "    }\n",
              "\n",
              "    .colab-df-convert:hover {\n",
              "      background-color: #E2EBFA;\n",
              "      box-shadow: 0px 1px 2px rgba(60, 64, 67, 0.3), 0px 1px 3px 1px rgba(60, 64, 67, 0.15);\n",
              "      fill: #174EA6;\n",
              "    }\n",
              "\n",
              "    .colab-df-buttons div {\n",
              "      margin-bottom: 4px;\n",
              "    }\n",
              "\n",
              "    [theme=dark] .colab-df-convert {\n",
              "      background-color: #3B4455;\n",
              "      fill: #D2E3FC;\n",
              "    }\n",
              "\n",
              "    [theme=dark] .colab-df-convert:hover {\n",
              "      background-color: #434B5C;\n",
              "      box-shadow: 0px 1px 3px 1px rgba(0, 0, 0, 0.15);\n",
              "      filter: drop-shadow(0px 1px 2px rgba(0, 0, 0, 0.3));\n",
              "      fill: #FFFFFF;\n",
              "    }\n",
              "  </style>\n",
              "\n",
              "    <script>\n",
              "      const buttonEl =\n",
              "        document.querySelector('#df-deb907ba-8090-49c9-a94a-733ba92c0ac0 button.colab-df-convert');\n",
              "      buttonEl.style.display =\n",
              "        google.colab.kernel.accessAllowed ? 'block' : 'none';\n",
              "\n",
              "      async function convertToInteractive(key) {\n",
              "        const element = document.querySelector('#df-deb907ba-8090-49c9-a94a-733ba92c0ac0');\n",
              "        const dataTable =\n",
              "          await google.colab.kernel.invokeFunction('convertToInteractive',\n",
              "                                                    [key], {});\n",
              "        if (!dataTable) return;\n",
              "\n",
              "        const docLinkHtml = 'Like what you see? Visit the ' +\n",
              "          '<a target=\"_blank\" href=https://colab.research.google.com/notebooks/data_table.ipynb>data table notebook</a>'\n",
              "          + ' to learn more about interactive tables.';\n",
              "        element.innerHTML = '';\n",
              "        dataTable['output_type'] = 'display_data';\n",
              "        await google.colab.output.renderOutput(dataTable, element);\n",
              "        const docLink = document.createElement('div');\n",
              "        docLink.innerHTML = docLinkHtml;\n",
              "        element.appendChild(docLink);\n",
              "      }\n",
              "    </script>\n",
              "  </div>\n",
              "\n",
              "\n",
              "<div id=\"df-33635ac8-9bee-405f-92ec-01f55f0ffed4\">\n",
              "  <button class=\"colab-df-quickchart\" onclick=\"quickchart('df-33635ac8-9bee-405f-92ec-01f55f0ffed4')\"\n",
              "            title=\"Suggest charts\"\n",
              "            style=\"display:none;\">\n",
              "\n",
              "<svg xmlns=\"http://www.w3.org/2000/svg\" height=\"24px\"viewBox=\"0 0 24 24\"\n",
              "     width=\"24px\">\n",
              "    <g>\n",
              "        <path d=\"M19 3H5c-1.1 0-2 .9-2 2v14c0 1.1.9 2 2 2h14c1.1 0 2-.9 2-2V5c0-1.1-.9-2-2-2zM9 17H7v-7h2v7zm4 0h-2V7h2v10zm4 0h-2v-4h2v4z\"/>\n",
              "    </g>\n",
              "</svg>\n",
              "  </button>\n",
              "\n",
              "<style>\n",
              "  .colab-df-quickchart {\n",
              "      --bg-color: #E8F0FE;\n",
              "      --fill-color: #1967D2;\n",
              "      --hover-bg-color: #E2EBFA;\n",
              "      --hover-fill-color: #174EA6;\n",
              "      --disabled-fill-color: #AAA;\n",
              "      --disabled-bg-color: #DDD;\n",
              "  }\n",
              "\n",
              "  [theme=dark] .colab-df-quickchart {\n",
              "      --bg-color: #3B4455;\n",
              "      --fill-color: #D2E3FC;\n",
              "      --hover-bg-color: #434B5C;\n",
              "      --hover-fill-color: #FFFFFF;\n",
              "      --disabled-bg-color: #3B4455;\n",
              "      --disabled-fill-color: #666;\n",
              "  }\n",
              "\n",
              "  .colab-df-quickchart {\n",
              "    background-color: var(--bg-color);\n",
              "    border: none;\n",
              "    border-radius: 50%;\n",
              "    cursor: pointer;\n",
              "    display: none;\n",
              "    fill: var(--fill-color);\n",
              "    height: 32px;\n",
              "    padding: 0;\n",
              "    width: 32px;\n",
              "  }\n",
              "\n",
              "  .colab-df-quickchart:hover {\n",
              "    background-color: var(--hover-bg-color);\n",
              "    box-shadow: 0 1px 2px rgba(60, 64, 67, 0.3), 0 1px 3px 1px rgba(60, 64, 67, 0.15);\n",
              "    fill: var(--button-hover-fill-color);\n",
              "  }\n",
              "\n",
              "  .colab-df-quickchart-complete:disabled,\n",
              "  .colab-df-quickchart-complete:disabled:hover {\n",
              "    background-color: var(--disabled-bg-color);\n",
              "    fill: var(--disabled-fill-color);\n",
              "    box-shadow: none;\n",
              "  }\n",
              "\n",
              "  .colab-df-spinner {\n",
              "    border: 2px solid var(--fill-color);\n",
              "    border-color: transparent;\n",
              "    border-bottom-color: var(--fill-color);\n",
              "    animation:\n",
              "      spin 1s steps(1) infinite;\n",
              "  }\n",
              "\n",
              "  @keyframes spin {\n",
              "    0% {\n",
              "      border-color: transparent;\n",
              "      border-bottom-color: var(--fill-color);\n",
              "      border-left-color: var(--fill-color);\n",
              "    }\n",
              "    20% {\n",
              "      border-color: transparent;\n",
              "      border-left-color: var(--fill-color);\n",
              "      border-top-color: var(--fill-color);\n",
              "    }\n",
              "    30% {\n",
              "      border-color: transparent;\n",
              "      border-left-color: var(--fill-color);\n",
              "      border-top-color: var(--fill-color);\n",
              "      border-right-color: var(--fill-color);\n",
              "    }\n",
              "    40% {\n",
              "      border-color: transparent;\n",
              "      border-right-color: var(--fill-color);\n",
              "      border-top-color: var(--fill-color);\n",
              "    }\n",
              "    60% {\n",
              "      border-color: transparent;\n",
              "      border-right-color: var(--fill-color);\n",
              "    }\n",
              "    80% {\n",
              "      border-color: transparent;\n",
              "      border-right-color: var(--fill-color);\n",
              "      border-bottom-color: var(--fill-color);\n",
              "    }\n",
              "    90% {\n",
              "      border-color: transparent;\n",
              "      border-bottom-color: var(--fill-color);\n",
              "    }\n",
              "  }\n",
              "</style>\n",
              "\n",
              "  <script>\n",
              "    async function quickchart(key) {\n",
              "      const quickchartButtonEl =\n",
              "        document.querySelector('#' + key + ' button');\n",
              "      quickchartButtonEl.disabled = true;  // To prevent multiple clicks.\n",
              "      quickchartButtonEl.classList.add('colab-df-spinner');\n",
              "      try {\n",
              "        const charts = await google.colab.kernel.invokeFunction(\n",
              "            'suggestCharts', [key], {});\n",
              "      } catch (error) {\n",
              "        console.error('Error during call to suggestCharts:', error);\n",
              "      }\n",
              "      quickchartButtonEl.classList.remove('colab-df-spinner');\n",
              "      quickchartButtonEl.classList.add('colab-df-quickchart-complete');\n",
              "    }\n",
              "    (() => {\n",
              "      let quickchartButtonEl =\n",
              "        document.querySelector('#df-33635ac8-9bee-405f-92ec-01f55f0ffed4 button');\n",
              "      quickchartButtonEl.style.display =\n",
              "        google.colab.kernel.accessAllowed ? 'block' : 'none';\n",
              "    })();\n",
              "  </script>\n",
              "</div>\n",
              "\n",
              "    </div>\n",
              "  </div>\n"
            ],
            "application/vnd.google.colaboratory.intrinsic+json": {
              "type": "dataframe",
              "variable_name": "data"
            }
          },
          "metadata": {},
          "execution_count": 9
        }
      ]
    },
    {
      "cell_type": "code",
      "source": [
        "data['lineage'] = np.where(data['lineage_2'].str.contains('Non-small', case=False), 'Non-Small Cell', 'Small Cell')"
      ],
      "metadata": {
        "id": "cGDHKHfqzKL8"
      },
      "execution_count": 10,
      "outputs": []
    },
    {
      "cell_type": "code",
      "source": [
        "data['lineage'].value_counts()"
      ],
      "metadata": {
        "colab": {
          "base_uri": "https://localhost:8080/",
          "height": 198
        },
        "id": "oNCFfdKmzK8B",
        "outputId": "e99fed89-bd35-4cce-d4a5-e479ad5d6854"
      },
      "execution_count": 11,
      "outputs": [
        {
          "output_type": "execute_result",
          "data": {
            "text/plain": [
              "lineage\n",
              "Non-Small Cell    119\n",
              "Small Cell         49\n",
              "Name: count, dtype: int64"
            ],
            "text/html": [
              "<div>\n",
              "<style scoped>\n",
              "    .dataframe tbody tr th:only-of-type {\n",
              "        vertical-align: middle;\n",
              "    }\n",
              "\n",
              "    .dataframe tbody tr th {\n",
              "        vertical-align: top;\n",
              "    }\n",
              "\n",
              "    .dataframe thead th {\n",
              "        text-align: right;\n",
              "    }\n",
              "</style>\n",
              "<table border=\"1\" class=\"dataframe\">\n",
              "  <thead>\n",
              "    <tr style=\"text-align: right;\">\n",
              "      <th></th>\n",
              "      <th>count</th>\n",
              "    </tr>\n",
              "    <tr>\n",
              "      <th>lineage</th>\n",
              "      <th></th>\n",
              "    </tr>\n",
              "  </thead>\n",
              "  <tbody>\n",
              "    <tr>\n",
              "      <th>Non-Small Cell</th>\n",
              "      <td>119</td>\n",
              "    </tr>\n",
              "    <tr>\n",
              "      <th>Small Cell</th>\n",
              "      <td>49</td>\n",
              "    </tr>\n",
              "  </tbody>\n",
              "</table>\n",
              "</div><br><label><b>dtype:</b> int64</label>"
            ]
          },
          "metadata": {},
          "execution_count": 11
        }
      ]
    },
    {
      "cell_type": "code",
      "source": [
        "columns_to_remove = ['depmap_id', 'cell_line_display_name', 'lineage_1', 'lineage_2', 'lineage_3', 'lineage_5', 'lineage_6', 'lineage_4']\n",
        "data = data.drop(columns=columns_to_remove)"
      ],
      "metadata": {
        "id": "mXFInEuRzMsM"
      },
      "execution_count": 12,
      "outputs": []
    },
    {
      "cell_type": "code",
      "source": [
        "data.head(2)"
      ],
      "metadata": {
        "colab": {
          "base_uri": "https://localhost:8080/",
          "height": 196
        },
        "id": "u9F-tYmvzQp9",
        "outputId": "8d25589b-92ee-4eca-9aaa-07d7b087b3a1"
      },
      "execution_count": 13,
      "outputs": [
        {
          "output_type": "execute_result",
          "data": {
            "text/plain": [
              "   MIMAT0000062  MIMAT0000063  MIMAT0000064  MIMAT0000065  MIMAT0000066  \\\n",
              "0     14.735474     12.091720      9.961391     12.626818      9.808289   \n",
              "1     14.088938     10.298567      9.188911      9.433690      7.415911   \n",
              "\n",
              "   MIMAT0000067  MIMAT0000414  MIMAT0000415  MIMAT0000416  MIMAT0000098  ...  \\\n",
              "0     12.016231     12.647656     12.811913      6.214513      6.262471  ...   \n",
              "1      9.548706     10.592279     10.094434      6.192391      6.209064  ...   \n",
              "\n",
              "   MIMAT0002191  MIMAT0002190  MIMAT0002189  MIMAT0002188  MIMAT0002187  \\\n",
              "0      6.609991      6.308885      6.262471      6.397461      5.966938   \n",
              "1      6.482203      6.258330      6.425761      6.454340      6.050284   \n",
              "\n",
              "   MIMAT0002186  MIMAT0002185  MIMAT0010151  MIMAT0010150     lineage  \n",
              "0      5.907852      6.572435      6.230741      6.910133  Small Cell  \n",
              "1      5.829088      6.321567      5.973841      6.723558  Small Cell  \n",
              "\n",
              "[2 rows x 735 columns]"
            ],
            "text/html": [
              "\n",
              "  <div id=\"df-4852746d-edbe-45a1-b549-b4abb98ecc08\" class=\"colab-df-container\">\n",
              "    <div>\n",
              "<style scoped>\n",
              "    .dataframe tbody tr th:only-of-type {\n",
              "        vertical-align: middle;\n",
              "    }\n",
              "\n",
              "    .dataframe tbody tr th {\n",
              "        vertical-align: top;\n",
              "    }\n",
              "\n",
              "    .dataframe thead th {\n",
              "        text-align: right;\n",
              "    }\n",
              "</style>\n",
              "<table border=\"1\" class=\"dataframe\">\n",
              "  <thead>\n",
              "    <tr style=\"text-align: right;\">\n",
              "      <th></th>\n",
              "      <th>MIMAT0000062</th>\n",
              "      <th>MIMAT0000063</th>\n",
              "      <th>MIMAT0000064</th>\n",
              "      <th>MIMAT0000065</th>\n",
              "      <th>MIMAT0000066</th>\n",
              "      <th>MIMAT0000067</th>\n",
              "      <th>MIMAT0000414</th>\n",
              "      <th>MIMAT0000415</th>\n",
              "      <th>MIMAT0000416</th>\n",
              "      <th>MIMAT0000098</th>\n",
              "      <th>...</th>\n",
              "      <th>MIMAT0002191</th>\n",
              "      <th>MIMAT0002190</th>\n",
              "      <th>MIMAT0002189</th>\n",
              "      <th>MIMAT0002188</th>\n",
              "      <th>MIMAT0002187</th>\n",
              "      <th>MIMAT0002186</th>\n",
              "      <th>MIMAT0002185</th>\n",
              "      <th>MIMAT0010151</th>\n",
              "      <th>MIMAT0010150</th>\n",
              "      <th>lineage</th>\n",
              "    </tr>\n",
              "  </thead>\n",
              "  <tbody>\n",
              "    <tr>\n",
              "      <th>0</th>\n",
              "      <td>14.735474</td>\n",
              "      <td>12.091720</td>\n",
              "      <td>9.961391</td>\n",
              "      <td>12.626818</td>\n",
              "      <td>9.808289</td>\n",
              "      <td>12.016231</td>\n",
              "      <td>12.647656</td>\n",
              "      <td>12.811913</td>\n",
              "      <td>6.214513</td>\n",
              "      <td>6.262471</td>\n",
              "      <td>...</td>\n",
              "      <td>6.609991</td>\n",
              "      <td>6.308885</td>\n",
              "      <td>6.262471</td>\n",
              "      <td>6.397461</td>\n",
              "      <td>5.966938</td>\n",
              "      <td>5.907852</td>\n",
              "      <td>6.572435</td>\n",
              "      <td>6.230741</td>\n",
              "      <td>6.910133</td>\n",
              "      <td>Small Cell</td>\n",
              "    </tr>\n",
              "    <tr>\n",
              "      <th>1</th>\n",
              "      <td>14.088938</td>\n",
              "      <td>10.298567</td>\n",
              "      <td>9.188911</td>\n",
              "      <td>9.433690</td>\n",
              "      <td>7.415911</td>\n",
              "      <td>9.548706</td>\n",
              "      <td>10.592279</td>\n",
              "      <td>10.094434</td>\n",
              "      <td>6.192391</td>\n",
              "      <td>6.209064</td>\n",
              "      <td>...</td>\n",
              "      <td>6.482203</td>\n",
              "      <td>6.258330</td>\n",
              "      <td>6.425761</td>\n",
              "      <td>6.454340</td>\n",
              "      <td>6.050284</td>\n",
              "      <td>5.829088</td>\n",
              "      <td>6.321567</td>\n",
              "      <td>5.973841</td>\n",
              "      <td>6.723558</td>\n",
              "      <td>Small Cell</td>\n",
              "    </tr>\n",
              "  </tbody>\n",
              "</table>\n",
              "<p>2 rows × 735 columns</p>\n",
              "</div>\n",
              "    <div class=\"colab-df-buttons\">\n",
              "\n",
              "  <div class=\"colab-df-container\">\n",
              "    <button class=\"colab-df-convert\" onclick=\"convertToInteractive('df-4852746d-edbe-45a1-b549-b4abb98ecc08')\"\n",
              "            title=\"Convert this dataframe to an interactive table.\"\n",
              "            style=\"display:none;\">\n",
              "\n",
              "  <svg xmlns=\"http://www.w3.org/2000/svg\" height=\"24px\" viewBox=\"0 -960 960 960\">\n",
              "    <path d=\"M120-120v-720h720v720H120Zm60-500h600v-160H180v160Zm220 220h160v-160H400v160Zm0 220h160v-160H400v160ZM180-400h160v-160H180v160Zm440 0h160v-160H620v160ZM180-180h160v-160H180v160Zm440 0h160v-160H620v160Z\"/>\n",
              "  </svg>\n",
              "    </button>\n",
              "\n",
              "  <style>\n",
              "    .colab-df-container {\n",
              "      display:flex;\n",
              "      gap: 12px;\n",
              "    }\n",
              "\n",
              "    .colab-df-convert {\n",
              "      background-color: #E8F0FE;\n",
              "      border: none;\n",
              "      border-radius: 50%;\n",
              "      cursor: pointer;\n",
              "      display: none;\n",
              "      fill: #1967D2;\n",
              "      height: 32px;\n",
              "      padding: 0 0 0 0;\n",
              "      width: 32px;\n",
              "    }\n",
              "\n",
              "    .colab-df-convert:hover {\n",
              "      background-color: #E2EBFA;\n",
              "      box-shadow: 0px 1px 2px rgba(60, 64, 67, 0.3), 0px 1px 3px 1px rgba(60, 64, 67, 0.15);\n",
              "      fill: #174EA6;\n",
              "    }\n",
              "\n",
              "    .colab-df-buttons div {\n",
              "      margin-bottom: 4px;\n",
              "    }\n",
              "\n",
              "    [theme=dark] .colab-df-convert {\n",
              "      background-color: #3B4455;\n",
              "      fill: #D2E3FC;\n",
              "    }\n",
              "\n",
              "    [theme=dark] .colab-df-convert:hover {\n",
              "      background-color: #434B5C;\n",
              "      box-shadow: 0px 1px 3px 1px rgba(0, 0, 0, 0.15);\n",
              "      filter: drop-shadow(0px 1px 2px rgba(0, 0, 0, 0.3));\n",
              "      fill: #FFFFFF;\n",
              "    }\n",
              "  </style>\n",
              "\n",
              "    <script>\n",
              "      const buttonEl =\n",
              "        document.querySelector('#df-4852746d-edbe-45a1-b549-b4abb98ecc08 button.colab-df-convert');\n",
              "      buttonEl.style.display =\n",
              "        google.colab.kernel.accessAllowed ? 'block' : 'none';\n",
              "\n",
              "      async function convertToInteractive(key) {\n",
              "        const element = document.querySelector('#df-4852746d-edbe-45a1-b549-b4abb98ecc08');\n",
              "        const dataTable =\n",
              "          await google.colab.kernel.invokeFunction('convertToInteractive',\n",
              "                                                    [key], {});\n",
              "        if (!dataTable) return;\n",
              "\n",
              "        const docLinkHtml = 'Like what you see? Visit the ' +\n",
              "          '<a target=\"_blank\" href=https://colab.research.google.com/notebooks/data_table.ipynb>data table notebook</a>'\n",
              "          + ' to learn more about interactive tables.';\n",
              "        element.innerHTML = '';\n",
              "        dataTable['output_type'] = 'display_data';\n",
              "        await google.colab.output.renderOutput(dataTable, element);\n",
              "        const docLink = document.createElement('div');\n",
              "        docLink.innerHTML = docLinkHtml;\n",
              "        element.appendChild(docLink);\n",
              "      }\n",
              "    </script>\n",
              "  </div>\n",
              "\n",
              "\n",
              "<div id=\"df-74cc0aba-1cdf-46e0-9cd0-ed1cd71def67\">\n",
              "  <button class=\"colab-df-quickchart\" onclick=\"quickchart('df-74cc0aba-1cdf-46e0-9cd0-ed1cd71def67')\"\n",
              "            title=\"Suggest charts\"\n",
              "            style=\"display:none;\">\n",
              "\n",
              "<svg xmlns=\"http://www.w3.org/2000/svg\" height=\"24px\"viewBox=\"0 0 24 24\"\n",
              "     width=\"24px\">\n",
              "    <g>\n",
              "        <path d=\"M19 3H5c-1.1 0-2 .9-2 2v14c0 1.1.9 2 2 2h14c1.1 0 2-.9 2-2V5c0-1.1-.9-2-2-2zM9 17H7v-7h2v7zm4 0h-2V7h2v10zm4 0h-2v-4h2v4z\"/>\n",
              "    </g>\n",
              "</svg>\n",
              "  </button>\n",
              "\n",
              "<style>\n",
              "  .colab-df-quickchart {\n",
              "      --bg-color: #E8F0FE;\n",
              "      --fill-color: #1967D2;\n",
              "      --hover-bg-color: #E2EBFA;\n",
              "      --hover-fill-color: #174EA6;\n",
              "      --disabled-fill-color: #AAA;\n",
              "      --disabled-bg-color: #DDD;\n",
              "  }\n",
              "\n",
              "  [theme=dark] .colab-df-quickchart {\n",
              "      --bg-color: #3B4455;\n",
              "      --fill-color: #D2E3FC;\n",
              "      --hover-bg-color: #434B5C;\n",
              "      --hover-fill-color: #FFFFFF;\n",
              "      --disabled-bg-color: #3B4455;\n",
              "      --disabled-fill-color: #666;\n",
              "  }\n",
              "\n",
              "  .colab-df-quickchart {\n",
              "    background-color: var(--bg-color);\n",
              "    border: none;\n",
              "    border-radius: 50%;\n",
              "    cursor: pointer;\n",
              "    display: none;\n",
              "    fill: var(--fill-color);\n",
              "    height: 32px;\n",
              "    padding: 0;\n",
              "    width: 32px;\n",
              "  }\n",
              "\n",
              "  .colab-df-quickchart:hover {\n",
              "    background-color: var(--hover-bg-color);\n",
              "    box-shadow: 0 1px 2px rgba(60, 64, 67, 0.3), 0 1px 3px 1px rgba(60, 64, 67, 0.15);\n",
              "    fill: var(--button-hover-fill-color);\n",
              "  }\n",
              "\n",
              "  .colab-df-quickchart-complete:disabled,\n",
              "  .colab-df-quickchart-complete:disabled:hover {\n",
              "    background-color: var(--disabled-bg-color);\n",
              "    fill: var(--disabled-fill-color);\n",
              "    box-shadow: none;\n",
              "  }\n",
              "\n",
              "  .colab-df-spinner {\n",
              "    border: 2px solid var(--fill-color);\n",
              "    border-color: transparent;\n",
              "    border-bottom-color: var(--fill-color);\n",
              "    animation:\n",
              "      spin 1s steps(1) infinite;\n",
              "  }\n",
              "\n",
              "  @keyframes spin {\n",
              "    0% {\n",
              "      border-color: transparent;\n",
              "      border-bottom-color: var(--fill-color);\n",
              "      border-left-color: var(--fill-color);\n",
              "    }\n",
              "    20% {\n",
              "      border-color: transparent;\n",
              "      border-left-color: var(--fill-color);\n",
              "      border-top-color: var(--fill-color);\n",
              "    }\n",
              "    30% {\n",
              "      border-color: transparent;\n",
              "      border-left-color: var(--fill-color);\n",
              "      border-top-color: var(--fill-color);\n",
              "      border-right-color: var(--fill-color);\n",
              "    }\n",
              "    40% {\n",
              "      border-color: transparent;\n",
              "      border-right-color: var(--fill-color);\n",
              "      border-top-color: var(--fill-color);\n",
              "    }\n",
              "    60% {\n",
              "      border-color: transparent;\n",
              "      border-right-color: var(--fill-color);\n",
              "    }\n",
              "    80% {\n",
              "      border-color: transparent;\n",
              "      border-right-color: var(--fill-color);\n",
              "      border-bottom-color: var(--fill-color);\n",
              "    }\n",
              "    90% {\n",
              "      border-color: transparent;\n",
              "      border-bottom-color: var(--fill-color);\n",
              "    }\n",
              "  }\n",
              "</style>\n",
              "\n",
              "  <script>\n",
              "    async function quickchart(key) {\n",
              "      const quickchartButtonEl =\n",
              "        document.querySelector('#' + key + ' button');\n",
              "      quickchartButtonEl.disabled = true;  // To prevent multiple clicks.\n",
              "      quickchartButtonEl.classList.add('colab-df-spinner');\n",
              "      try {\n",
              "        const charts = await google.colab.kernel.invokeFunction(\n",
              "            'suggestCharts', [key], {});\n",
              "      } catch (error) {\n",
              "        console.error('Error during call to suggestCharts:', error);\n",
              "      }\n",
              "      quickchartButtonEl.classList.remove('colab-df-spinner');\n",
              "      quickchartButtonEl.classList.add('colab-df-quickchart-complete');\n",
              "    }\n",
              "    (() => {\n",
              "      let quickchartButtonEl =\n",
              "        document.querySelector('#df-74cc0aba-1cdf-46e0-9cd0-ed1cd71def67 button');\n",
              "      quickchartButtonEl.style.display =\n",
              "        google.colab.kernel.accessAllowed ? 'block' : 'none';\n",
              "    })();\n",
              "  </script>\n",
              "</div>\n",
              "\n",
              "    </div>\n",
              "  </div>\n"
            ],
            "application/vnd.google.colaboratory.intrinsic+json": {
              "type": "dataframe",
              "variable_name": "data"
            }
          },
          "metadata": {},
          "execution_count": 13
        }
      ]
    },
    {
      "cell_type": "code",
      "source": [
        "data.info()"
      ],
      "metadata": {
        "colab": {
          "base_uri": "https://localhost:8080/"
        },
        "id": "2JzMSFdmzTsP",
        "outputId": "2a4946c8-1391-4dad-fb48-713c05c4b3fd"
      },
      "execution_count": 14,
      "outputs": [
        {
          "output_type": "stream",
          "name": "stdout",
          "text": [
            "<class 'pandas.core.frame.DataFrame'>\n",
            "RangeIndex: 168 entries, 0 to 167\n",
            "Columns: 735 entries, MIMAT0000062 to lineage\n",
            "dtypes: float64(734), object(1)\n",
            "memory usage: 964.8+ KB\n"
          ]
        }
      ]
    },
    {
      "cell_type": "code",
      "source": [
        "# Check if any cell contains NaN\n",
        "any_nan = data.isna().any().any()\n",
        "any_nan"
      ],
      "metadata": {
        "colab": {
          "base_uri": "https://localhost:8080/"
        },
        "id": "7Pc4WfUczexY",
        "outputId": "4d84577f-ae3a-40aa-8281-dca2d44ea7e9"
      },
      "execution_count": 15,
      "outputs": [
        {
          "output_type": "execute_result",
          "data": {
            "text/plain": [
              "False"
            ]
          },
          "metadata": {},
          "execution_count": 15
        }
      ]
    },
    {
      "cell_type": "code",
      "source": [
        "X = data.iloc[:, :-1]\n",
        "y = data.iloc[:, -1]"
      ],
      "metadata": {
        "id": "P6mtZoy_zjsx"
      },
      "execution_count": 16,
      "outputs": []
    },
    {
      "cell_type": "code",
      "source": [
        "from sklearn.model_selection import train_test_split\n",
        "X_train, X_test, y_train, y_test = train_test_split(X, y, test_size=0.2, stratify=y, random_state=42)"
      ],
      "metadata": {
        "id": "rfxBTKegzsS-"
      },
      "execution_count": 17,
      "outputs": []
    },
    {
      "cell_type": "code",
      "source": [
        "from sklearn.pipeline import Pipeline\n",
        "from sklearn.preprocessing import StandardScaler\n",
        "\n",
        "scaler = StandardScaler()\n",
        "X_train = scaler.fit_transform(X_train)\n",
        "X_test = scaler.transform(X_test)"
      ],
      "metadata": {
        "id": "j9RmFEmKzurv"
      },
      "execution_count": 18,
      "outputs": []
    },
    {
      "cell_type": "code",
      "source": [
        "X_train.shape, X_train.dtype"
      ],
      "metadata": {
        "colab": {
          "base_uri": "https://localhost:8080/"
        },
        "id": "wR-N5zNNzyzW",
        "outputId": "08a10f56-fd6a-4cc2-cca1-b1983d50e85e"
      },
      "execution_count": 19,
      "outputs": [
        {
          "output_type": "execute_result",
          "data": {
            "text/plain": [
              "((134, 734), dtype('float64'))"
            ]
          },
          "metadata": {},
          "execution_count": 19
        }
      ]
    },
    {
      "cell_type": "code",
      "source": [
        "X_train[:10]"
      ],
      "metadata": {
        "colab": {
          "base_uri": "https://localhost:8080/"
        },
        "id": "80sZmER_0lAs",
        "outputId": "08305e21-182c-4da7-9648-3b4b42c7a1c0"
      },
      "execution_count": 20,
      "outputs": [
        {
          "output_type": "execute_result",
          "data": {
            "text/plain": [
              "array([[ 2.09714814,  1.56102329,  1.64925314, ...,  0.65113048,\n",
              "         2.07554345,  0.74653646],\n",
              "       [-1.49864366, -0.68528856, -1.42676897, ..., -1.56292539,\n",
              "        -0.96481616, -1.19661364],\n",
              "       [-0.76953996, -1.85293162, -1.35101768, ..., -1.41050248,\n",
              "         0.58077575,  0.84678714],\n",
              "       ...,\n",
              "       [ 0.01221754, -0.15509051, -0.13237277, ..., -0.33038845,\n",
              "         0.52377647, -0.34580558],\n",
              "       [ 0.31823448,  0.38752467,  0.58896584, ...,  1.09807715,\n",
              "         1.13991008, -0.46742356],\n",
              "       [ 1.04447861,  1.21311262,  0.91073568, ..., -0.30223258,\n",
              "        -1.21984152,  1.44315884]])"
            ]
          },
          "metadata": {},
          "execution_count": 20
        }
      ]
    },
    {
      "cell_type": "code",
      "source": [
        "y[:10], y.dtype"
      ],
      "metadata": {
        "colab": {
          "base_uri": "https://localhost:8080/"
        },
        "id": "pestj6zi0WwP",
        "outputId": "d9578d2c-e560-4d52-c981-c3253899a1e0"
      },
      "execution_count": 21,
      "outputs": [
        {
          "output_type": "execute_result",
          "data": {
            "text/plain": [
              "(0        Small Cell\n",
              " 1        Small Cell\n",
              " 2        Small Cell\n",
              " 3        Small Cell\n",
              " 4        Small Cell\n",
              " 5        Small Cell\n",
              " 6    Non-Small Cell\n",
              " 7    Non-Small Cell\n",
              " 8    Non-Small Cell\n",
              " 9    Non-Small Cell\n",
              " Name: lineage, dtype: object,\n",
              " dtype('O'))"
            ]
          },
          "metadata": {},
          "execution_count": 21
        }
      ]
    },
    {
      "cell_type": "markdown",
      "source": [
        "## Convert data to tensors and move to device"
      ],
      "metadata": {
        "id": "RWbwGjGK21Wg"
      }
    },
    {
      "cell_type": "code",
      "source": [
        "batch_size = 32"
      ],
      "metadata": {
        "id": "9aEEQfSV3v6C"
      },
      "execution_count": 22,
      "outputs": []
    },
    {
      "cell_type": "code",
      "source": [
        "X_train_tensor = torch.tensor(X_train, dtype=torch.float32).to(device)\n",
        "X_test_tensor = torch.tensor(X_test, dtype=torch.float32).to(device)\n",
        "y_train_tensor = torch.tensor((y_train == 'Non-Small Cell').astype(int).values, dtype=torch.float32).reshape(-1, 1).to(device)\n",
        "y_test_tensor = torch.tensor((y_test == 'Non-Small Cell').astype(int).values, dtype=torch.float32).reshape(-1, 1).to(device)\n",
        "\n",
        "train_dataset = TensorDataset(X_train_tensor, y_train_tensor)\n",
        "test_dataset = TensorDataset(X_test_tensor, y_test_tensor)\n",
        "train_loader = DataLoader(train_dataset, batch_size=batch_size, shuffle=True)\n",
        "test_loader = DataLoader(test_dataset, batch_size=batch_size, shuffle=False)"
      ],
      "metadata": {
        "id": "q-BynmUG0ZhY"
      },
      "execution_count": 23,
      "outputs": []
    },
    {
      "cell_type": "markdown",
      "source": [
        "## Define a Model"
      ],
      "metadata": {
        "id": "wFXUzfaS3898"
      }
    },
    {
      "cell_type": "code",
      "source": [
        "class BinaryClassificationModel(nn.Module):\n",
        "    def __init__(self, input_dim, hidden_layers, dropout_rate):\n",
        "        super(BinaryClassificationModel, self).__init__()\n",
        "\n",
        "        layers = []\n",
        "        last_dim = input_dim\n",
        "        for hidden_dim in hidden_layers:\n",
        "            layers.append(nn.Linear(last_dim, hidden_dim))\n",
        "            layers.append(nn.ReLU())\n",
        "            layers.append(nn.Dropout(dropout_rate))\n",
        "            last_dim = hidden_dim\n",
        "\n",
        "        layers.append(nn.Linear(last_dim, 1))\n",
        "        layers.append(nn.Sigmoid())\n",
        "\n",
        "        self.model = nn.Sequential(*layers)\n",
        "\n",
        "    def forward(self, x):\n",
        "        return self.model(x)"
      ],
      "metadata": {
        "id": "FiWcXMmc28x8"
      },
      "execution_count": 24,
      "outputs": []
    },
    {
      "cell_type": "markdown",
      "source": [
        "## Training Function"
      ],
      "metadata": {
        "id": "GCrPKL7g4Qwi"
      }
    },
    {
      "cell_type": "code",
      "source": [
        "def train_model(model, train_loader, criterion, optimizer, num_epochs=25):\n",
        "    model.train()\n",
        "    for epoch in range(num_epochs):\n",
        "        running_loss = 0.0\n",
        "        for inputs, labels in train_loader:\n",
        "            inputs, labels = inputs.to(device), labels.to(device)\n",
        "            optimizer.zero_grad()\n",
        "            outputs = model(inputs)\n",
        "            loss = criterion(outputs, labels)\n",
        "            loss.backward()\n",
        "            optimizer.step()\n",
        "            running_loss += loss.item()\n",
        "        # print(f\"Epoch {epoch+1}/{num_epochs}, Loss: {running_loss/len(train_loader):.4f}\")\n"
      ],
      "metadata": {
        "id": "uZ0GkNtt4NFW"
      },
      "execution_count": 25,
      "outputs": []
    },
    {
      "cell_type": "markdown",
      "source": [
        "## Evaluation Function"
      ],
      "metadata": {
        "id": "YzCfrOXV4a62"
      }
    },
    {
      "cell_type": "code",
      "source": [
        "def evaluate_model(model, test_loader):\n",
        "    model.eval()\n",
        "    all_preds = []\n",
        "    with torch.no_grad():\n",
        "        for inputs, _ in test_loader:\n",
        "            inputs = inputs.to(device)\n",
        "            outputs = model(inputs)\n",
        "            all_preds.extend(outputs.cpu().round().numpy())  # Moving predictions to CPU for scoring\n",
        "    return accuracy_score(y_test_tensor.cpu(), all_preds)"
      ],
      "metadata": {
        "id": "GX_nnM_B4VAO"
      },
      "execution_count": 26,
      "outputs": []
    },
    {
      "cell_type": "code",
      "source": [
        "import torch.optim as optim"
      ],
      "metadata": {
        "id": "3nJ8c5-05KNb"
      },
      "execution_count": 27,
      "outputs": []
    },
    {
      "cell_type": "code",
      "source": [
        "input_dim = X_train.shape[1]\n",
        "hyperparams = {\n",
        "    'hidden_layers': [[64, 32], [128, 64, 32], [128, 64]],  # Number of neurons per layer\n",
        "    'dropout_rate': [0.3, 0.4, 0.5],\n",
        "    'learning_rate': [0.001, 0.0005],\n",
        "    'optimizer': [optim.Adam, optim.SGD]\n",
        "}\n"
      ],
      "metadata": {
        "id": "Ngp_QGmJ4f01"
      },
      "execution_count": 28,
      "outputs": []
    },
    {
      "cell_type": "code",
      "source": [
        "best_accuracy = 0.0\n",
        "best_params = {}"
      ],
      "metadata": {
        "id": "d3N3WwiF5Fgn"
      },
      "execution_count": 29,
      "outputs": []
    },
    {
      "cell_type": "code",
      "source": [
        "for hidden_layers in hyperparams['hidden_layers']:\n",
        "    for dropout_rate in hyperparams['dropout_rate']:\n",
        "        for lr in hyperparams['learning_rate']:\n",
        "            for opt_func in hyperparams['optimizer']:\n",
        "\n",
        "                # Initialize model, criterion, and optimizer\n",
        "                model = BinaryClassificationModel(input_dim, hidden_layers, dropout_rate).to(device)\n",
        "                criterion = nn.BCELoss()\n",
        "                optimizer = opt_func(model.parameters(), lr=lr)\n",
        "\n",
        "                # Train and evaluate\n",
        "                train_model(model, train_loader, criterion, optimizer, num_epochs=25)\n",
        "                accuracy = evaluate_model(model, test_loader)\n",
        "\n",
        "                # Check for best accuracy\n",
        "                if accuracy > best_accuracy:\n",
        "                    best_accuracy = accuracy\n",
        "                    best_params = {\n",
        "                        'hidden_layers': hidden_layers,\n",
        "                        'dropout_rate': dropout_rate,\n",
        "                        'learning_rate': lr,\n",
        "                        'optimizer': opt_func\n",
        "                    }\n",
        "\n",
        "print(\"Best Parameters:\", best_params)\n",
        "print(\"Best Accuracy:\", best_accuracy)"
      ],
      "metadata": {
        "colab": {
          "base_uri": "https://localhost:8080/"
        },
        "id": "sFpj4zy-5Q6g",
        "outputId": "029af830-61f2-4e37-e8b6-e70f91fc5dae"
      },
      "execution_count": 30,
      "outputs": [
        {
          "output_type": "stream",
          "name": "stdout",
          "text": [
            "Best Parameters: {'hidden_layers': [64, 32], 'dropout_rate': 0.4, 'learning_rate': 0.001, 'optimizer': <class 'torch.optim.adam.Adam'>}\n",
            "Best Accuracy: 0.9117647058823529\n"
          ]
        }
      ]
    },
    {
      "cell_type": "markdown",
      "source": [
        "## Use Best Hyperparameters"
      ],
      "metadata": {
        "id": "oVzw2-GX6EUC"
      }
    },
    {
      "cell_type": "code",
      "source": [
        "# Best hyperparameters found during tuning\n",
        "best_hidden_layers = best_params['hidden_layers']\n",
        "best_dropout_rate = best_params['dropout_rate']\n",
        "best_learning_rate = best_params['learning_rate']\n",
        "best_optimizer = best_params['optimizer']"
      ],
      "metadata": {
        "id": "DY9SX6SM6DeE"
      },
      "execution_count": 31,
      "outputs": []
    },
    {
      "cell_type": "code",
      "source": [
        "# Redefine the model with best hyperparameters and move it to device\n",
        "model = BinaryClassificationModel(input_dim, best_hidden_layers, best_dropout_rate).to(device)\n",
        "criterion = nn.BCELoss()\n",
        "optimizer = best_optimizer(model.parameters(), lr=best_learning_rate)\n"
      ],
      "metadata": {
        "id": "zFvQ3fhV6UJF"
      },
      "execution_count": 32,
      "outputs": []
    },
    {
      "cell_type": "code",
      "source": [
        "# Lists to store loss and accuracy for each epoch\n",
        "train_losses = []\n",
        "train_accuracies = []\n",
        "test_losses = []\n",
        "test_accuracies = []"
      ],
      "metadata": {
        "id": "4Dzdfc6L6XAg"
      },
      "execution_count": 33,
      "outputs": []
    },
    {
      "cell_type": "markdown",
      "source": [
        "## Modified Training Loop with Early Stopping"
      ],
      "metadata": {
        "id": "i8BFXnpq6i75"
      }
    },
    {
      "cell_type": "code",
      "source": [
        "patience = 3  # Number of epochs to wait before stopping if no improvement\n",
        "min_delta = 0.001  # Minimum change to consider as an improvement\n",
        "best_val_loss = float('inf')\n",
        "no_improvement_count = 0"
      ],
      "metadata": {
        "id": "CcQljgAj7Dlh"
      },
      "execution_count": 34,
      "outputs": []
    },
    {
      "cell_type": "code",
      "source": [
        "# Modified training function to store epoch-wise metrics\n",
        "def train_and_validate(model, train_loader, test_loader, criterion, optimizer, num_epochs=25):\n",
        "    global best_val_loss, no_improvement_count\n",
        "\n",
        "    for epoch in range(num_epochs):\n",
        "        # Training Phase\n",
        "        model.train()\n",
        "        running_loss = 0.0\n",
        "        correct_preds = 0\n",
        "        total_preds = 0\n",
        "\n",
        "        for inputs, labels in train_loader:\n",
        "            inputs, labels = inputs.to(device), labels.to(device)\n",
        "            optimizer.zero_grad()\n",
        "            outputs = model(inputs)\n",
        "            loss = criterion(outputs, labels)\n",
        "            loss.backward()\n",
        "            optimizer.step()\n",
        "\n",
        "            running_loss += loss.item()\n",
        "            correct_preds += (outputs.round() == labels).sum().item()\n",
        "            total_preds += labels.size(0)\n",
        "\n",
        "        train_losses.append(running_loss / len(train_loader))\n",
        "        train_accuracies.append(correct_preds / total_preds)\n",
        "\n",
        "        # Validation Phase\n",
        "        model.eval()\n",
        "        val_loss = 0.0\n",
        "        correct_preds = 0\n",
        "        total_preds = 0\n",
        "\n",
        "        with torch.no_grad():\n",
        "            for inputs, labels in test_loader:\n",
        "                inputs, labels = inputs.to(device), labels.to(device)\n",
        "                outputs = model(inputs)\n",
        "                loss = criterion(outputs, labels)\n",
        "                val_loss += loss.item()\n",
        "                correct_preds += (outputs.round() == labels).sum().item()\n",
        "                total_preds += labels.size(0)\n",
        "\n",
        "        test_losses.append(val_loss / len(test_loader))\n",
        "        test_accuracies.append(correct_preds / total_preds)\n",
        "\n",
        "        print(f\"Epoch {epoch+1}/{num_epochs} - \"\n",
        "              f\"Train Loss: {train_losses[-1]:.4f}, Train Acc: {train_accuracies[-1]:.4f}, \"\n",
        "              f\"Val Loss: {test_losses[-1]:.4f}, Val Acc: {test_accuracies[-1]:.4f}\")\n",
        "\n",
        "        # Early stopping check\n",
        "        if val_loss < best_val_loss - min_delta:\n",
        "            best_val_loss = val_loss\n",
        "            no_improvement_count = 0  # Reset count if improvement\n",
        "        else:\n",
        "            no_improvement_count += 1  # Increment if no improvement\n",
        "\n",
        "        if no_improvement_count >= patience:\n",
        "            print(f\"Early stopping at epoch {epoch+1}\")\n",
        "            break"
      ],
      "metadata": {
        "id": "Xi8L4Wgc6aMy"
      },
      "execution_count": 35,
      "outputs": []
    },
    {
      "cell_type": "code",
      "source": [
        "# Train and validate the model\n",
        "train_and_validate(model, train_loader, test_loader, criterion, optimizer, num_epochs=25)\n"
      ],
      "metadata": {
        "colab": {
          "base_uri": "https://localhost:8080/"
        },
        "id": "vRFYMA376t9W",
        "outputId": "8605ef3c-0a81-4235-e969-9c3712b7a918"
      },
      "execution_count": 36,
      "outputs": [
        {
          "output_type": "stream",
          "name": "stdout",
          "text": [
            "Epoch 1/25 - Train Loss: 0.5935, Train Acc: 0.7388, Val Loss: 0.5337, Val Acc: 0.8529\n",
            "Epoch 2/25 - Train Loss: 0.5072, Train Acc: 0.7239, Val Loss: 0.4162, Val Acc: 0.8529\n",
            "Epoch 3/25 - Train Loss: 0.4502, Train Acc: 0.7836, Val Loss: 0.3184, Val Acc: 0.8824\n",
            "Epoch 4/25 - Train Loss: 0.3520, Train Acc: 0.8358, Val Loss: 0.2332, Val Acc: 0.9118\n",
            "Epoch 5/25 - Train Loss: 0.3353, Train Acc: 0.8433, Val Loss: 0.1849, Val Acc: 0.9412\n",
            "Epoch 6/25 - Train Loss: 0.2865, Train Acc: 0.8657, Val Loss: 0.1582, Val Acc: 0.9412\n",
            "Epoch 7/25 - Train Loss: 0.2737, Train Acc: 0.8881, Val Loss: 0.1472, Val Acc: 0.9118\n",
            "Epoch 8/25 - Train Loss: 0.1847, Train Acc: 0.9328, Val Loss: 0.1431, Val Acc: 0.9118\n",
            "Epoch 9/25 - Train Loss: 0.1579, Train Acc: 0.9328, Val Loss: 0.1414, Val Acc: 0.9118\n",
            "Epoch 10/25 - Train Loss: 0.1963, Train Acc: 0.9328, Val Loss: 0.1429, Val Acc: 0.9118\n",
            "Epoch 11/25 - Train Loss: 0.1581, Train Acc: 0.9328, Val Loss: 0.1453, Val Acc: 0.9118\n",
            "Epoch 12/25 - Train Loss: 0.1192, Train Acc: 0.9552, Val Loss: 0.1581, Val Acc: 0.9118\n",
            "Early stopping at epoch 12\n"
          ]
        }
      ]
    },
    {
      "cell_type": "markdown",
      "source": [
        "## Plotting Loss and Accuracy"
      ],
      "metadata": {
        "id": "SPgJF1IZ7d1w"
      }
    },
    {
      "cell_type": "code",
      "source": [
        "# Plotting Epoch vs Loss and Accuracy\n",
        "epochs = range(1, len(train_losses) + 1)\n",
        "plt.figure(figsize=(12, 5))\n",
        "\n",
        "# Plot Loss\n",
        "plt.subplot(1, 2, 1)\n",
        "plt.plot(epochs, train_losses, label='Training Loss')\n",
        "plt.plot(epochs, test_losses, label='Validation Loss')\n",
        "plt.xlabel('Epoch')\n",
        "plt.ylabel('Loss')\n",
        "plt.title('Epoch vs Loss')\n",
        "plt.legend()\n",
        "\n",
        "# Plot Accuracy\n",
        "plt.subplot(1, 2, 2)\n",
        "plt.plot(epochs, train_accuracies, label='Training Accuracy')\n",
        "plt.plot(epochs, test_accuracies, label='Validation Accuracy')\n",
        "plt.xlabel('Epoch')\n",
        "plt.ylabel('Accuracy')\n",
        "plt.title('Epoch vs Accuracy')\n",
        "plt.legend()\n",
        "\n",
        "plt.tight_layout()\n",
        "plt.show()"
      ],
      "metadata": {
        "colab": {
          "base_uri": "https://localhost:8080/",
          "height": 527
        },
        "id": "w-O9TnPP6upI",
        "outputId": "d508bfb1-87f9-42ba-985a-1282cd7dbb2d"
      },
      "execution_count": 37,
      "outputs": [
        {
          "output_type": "display_data",
          "data": {
            "text/plain": [
              "<Figure size 1200x500 with 2 Axes>"
            ],
            "image/png": "[encoded data removed]"
          },
          "metadata": {}
        }
      ]
    },
    {
      "cell_type": "markdown",
      "source": [
        "## Classification Matrix and Classification Report"
      ],
      "metadata": {
        "id": "kJ3ysLzr8MX3"
      }
    },
    {
      "cell_type": "code",
      "source": [
        "from sklearn.metrics import ConfusionMatrixDisplay, classification_report"
      ],
      "metadata": {
        "id": "lUBGkgwt7gqi"
      },
      "execution_count": 38,
      "outputs": []
    },
    {
      "cell_type": "code",
      "source": [
        "# Ensure model is in evaluation mode and make predictions on test data\n",
        "model.eval()\n",
        "y_pred = []\n",
        "\n",
        "with torch.no_grad():\n",
        "    for inputs, _ in test_loader:\n",
        "        inputs = inputs.to(device)\n",
        "        outputs = model(inputs)\n",
        "        y_pred.extend(outputs.cpu().round().numpy())  # Move predictions to CPU and round to binary\n",
        "\n",
        "# Convert predictions and true labels to the correct format\n",
        "y_pred = [int(pred[0]) for pred in y_pred]  # Flatten list of predictions\n",
        "y_test_binary = y_test_tensor.cpu().numpy().astype(int).flatten()  # Convert y_test_tensor to numpy for compatibility\n",
        "\n",
        "# Confusion matrix plot\n",
        "ConfusionMatrixDisplay.from_predictions(\n",
        "    y_test_binary, y_pred, normalize=\"true\", values_format=\".0%\"\n",
        ")\n",
        "plt.title(\"Confusion Matrix\")\n",
        "plt.show()"
      ],
      "metadata": {
        "colab": {
          "base_uri": "https://localhost:8080/",
          "height": 492
        },
        "id": "0_ee4z0c8Tfk",
        "outputId": "1bbcaea5-16df-4b77-bb28-73c9c9bd3c3b"
      },
      "execution_count": 39,
      "outputs": [
        {
          "output_type": "display_data",
          "data": {
            "text/plain": [
              "<Figure size 640x480 with 2 Axes>"
            ],
            "image/png": "[encoded data removed]"
          },
          "metadata": {}
        }
      ]
    },
    {
      "cell_type": "code",
      "source": [
        "# Classification report\n",
        "print(\"Classification Report:\")\n",
        "print(classification_report(y_test_binary, y_pred, target_names=[\"Small Cell\", \"Non-Small Cell\"]))"
      ],
      "metadata": {
        "colab": {
          "base_uri": "https://localhost:8080/"
        },
        "id": "dmUkrUsw8ZnN",
        "outputId": "0793a732-5e65-408e-e492-754f5fa44800"
      },
      "execution_count": 40,
      "outputs": [
        {
          "output_type": "stream",
          "name": "stdout",
          "text": [
            "Classification Report:\n",
            "                precision    recall  f1-score   support\n",
            "\n",
            "    Small Cell       0.89      0.80      0.84        10\n",
            "Non-Small Cell       0.92      0.96      0.94        24\n",
            "\n",
            "      accuracy                           0.91        34\n",
            "     macro avg       0.90      0.88      0.89        34\n",
            "  weighted avg       0.91      0.91      0.91        34\n",
            "\n"
          ]
        }
      ]
    }
  ]
}